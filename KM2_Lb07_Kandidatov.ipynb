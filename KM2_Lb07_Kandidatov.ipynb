{
 "cells": [
  {
   "cell_type": "markdown",
   "id": "2c27f215-56f5-4de6-bf2d-f587d4455511",
   "metadata": {},
   "source": [
    "# Лабораторная работа 7"
   ]
  },
  {
   "cell_type": "markdown",
   "id": "2c7ac168-7217-4690-951f-fa526de5cf49",
   "metadata": {},
   "source": [
    "## Построение бинарного дерева поиска. Подсчет количества элементов в дереве"
   ]
  },
  {
   "cell_type": "markdown",
   "id": "d346047d-b8c7-48f8-9935-7c82a1caa1c9",
   "metadata": {},
   "source": [
    "## Кандидатов Егор Олегович, 15.05.2025"
   ]
  },
  {
   "cell_type": "markdown",
   "id": "9277b4f0-5b4a-436d-b2e2-876c14b630e9",
   "metadata": {},
   "source": [
    "## Задание 7.1 Определение классов"
   ]
  },
  {
   "cell_type": "code",
   "execution_count": 64,
   "id": "fd8c009f-ff80-46cb-87b4-28a93264c8f0",
   "metadata": {},
   "outputs": [],
   "source": [
    "import numpy as np"
   ]
  },
  {
   "cell_type": "code",
   "execution_count": 66,
   "id": "da3dc4d8-f23b-4b60-8454-a5f1c6421bd8",
   "metadata": {},
   "outputs": [],
   "source": [
    "class BinaryTree:\n",
    "    def __init__(self):\n",
    "        self.root = EmptyNode()\n",
    "    def __repr__(self):\n",
    "        return repr(self.root)\n",
    "    def insert(self, value):\n",
    "        self.root = self.root.insert(value)"
   ]
  },
  {
   "cell_type": "code",
   "execution_count": 68,
   "id": "9c2c1a26-15d4-4df0-aecb-d2ad77e8de5f",
   "metadata": {},
   "outputs": [],
   "source": [
    "class BinaryNode:\n",
    "    def __init__(self, left, value, right):\n",
    "        self.left = left\n",
    "        self.value = value\n",
    "        self.right = right\n",
    "\n",
    "    def __repr__(self):\n",
    "        return f'({self.left}, {self.value}, {self.right})'"
   ]
  },
  {
   "cell_type": "code",
   "execution_count": 70,
   "id": "958ebb1a-62f1-4be6-8a76-a11e8aa9696e",
   "metadata": {},
   "outputs": [],
   "source": [
    "class EmptyNode:\n",
    "    def __repr__(self):\n",
    "        return '*'\n",
    "\n",
    "    def insert(self, value):\n",
    "        return BinaryNode(self, value, self)"
   ]
  },
  {
   "cell_type": "markdown",
   "id": "f402933d-965d-42d2-a2b2-8ba37fe03797",
   "metadata": {},
   "source": [
    "### Задание 7.2 Метод вставки элемента в бинарное дерево поиска\n"
   ]
  },
  {
   "cell_type": "code",
   "execution_count": 73,
   "id": "bb8c7885-01a1-4cd9-91d3-649dd6763cd8",
   "metadata": {},
   "outputs": [],
   "source": [
    "class BinaryNode:\n",
    "    def __init__(self, left, value, right):\n",
    "        self.left = left\n",
    "        self.value = value\n",
    "        self.right = right\n",
    "\n",
    "    def __repr__(self):\n",
    "        return f'({self.left}, {self.value}, {self.right})'\n",
    "\n",
    "    def insert(self, value):\n",
    "         if value<self.value:\n",
    "             self.left =self.left.insert(value)\n",
    "         else:\n",
    "             self.right =self.right.insert(value)\n",
    "         return self"
   ]
  },
  {
   "cell_type": "code",
   "execution_count": 75,
   "id": "7e58dd13-8d0e-4a22-a5f9-44801bde3918",
   "metadata": {},
   "outputs": [
    {
     "name": "stdout",
     "output_type": "stream",
     "text": [
      "(*, 1, *)\n",
      "(*, 1, (*, 4, *))\n",
      "(*, 1, ((*, 2, *), 4, *))\n",
      "(*, 1, ((*, 2, *), 4, (*, 6, *)))\n",
      "(*, 1, ((*, 2, *), 4, (*, 6, (*, 8, *))))\n"
     ]
    }
   ],
   "source": [
    "tree1 = BinaryTree()\n",
    "source1 = [1, 4, 2, 6, 8]\n",
    "for n in source1: \n",
    "    tree1.insert(n)\n",
    "    print(tree1)"
   ]
  },
  {
   "cell_type": "code",
   "execution_count": 77,
   "id": "c511e41a-7562-4196-a7e2-bf1f65e0d613",
   "metadata": {},
   "outputs": [
    {
     "name": "stdout",
     "output_type": "stream",
     "text": [
      "(*, d, (((*, d, *), f, *), j, (*, n, *)))\n"
     ]
    }
   ],
   "source": [
    "tree2 = BinaryTree()\n",
    "source2 = 'djfnd'\n",
    "for n in source2:\n",
    "    tree2.insert(n)\n",
    "print(tree2)"
   ]
  },
  {
   "cell_type": "code",
   "execution_count": 79,
   "id": "de448136-ccb5-4bb0-adb6-47658dcfccba",
   "metadata": {},
   "outputs": [
    {
     "data": {
      "text/plain": [
       "(*, 0, (*, 1, (*, 2, (*, 3, (*, 4, (*, 5, (*, 6, *)))))))"
      ]
     },
     "execution_count": 79,
     "metadata": {},
     "output_type": "execute_result"
    }
   ],
   "source": [
    "tree3 = BinaryTree()\n",
    "for n in range(7):\n",
    "    tree3.insert(n)\n",
    "tree3"
   ]
  },
  {
   "cell_type": "markdown",
   "id": "bd145a7f-239b-407e-8436-44eda7edd376",
   "metadata": {},
   "source": [
    "## Задание 7.3 Построение бинарного дерева поиска"
   ]
  },
  {
   "cell_type": "code",
   "execution_count": 82,
   "id": "6d97ff55-0e2e-4831-b754-7a1a8549c602",
   "metadata": {},
   "outputs": [
    {
     "data": {
      "text/plain": [
       "(((*, 1, *), 2, ((*, 2, *), 3, *)), 43, (*, 54, (*, 75, *)))"
      ]
     },
     "execution_count": 82,
     "metadata": {},
     "output_type": "execute_result"
    }
   ],
   "source": [
    "tree_test1 = BinaryTree()\n",
    "with open(\"test1.txt\", \"r\") as f:\n",
    "    for line in f:\n",
    "        number = int(line.strip())\n",
    "        tree_test1.insert(number)\n",
    "tree_test1"
   ]
  },
  {
   "cell_type": "code",
   "execution_count": 88,
   "id": "d978e4e5-e4f7-45ea-8ada-e0a64956f2bf",
   "metadata": {},
   "outputs": [
    {
     "data": {
      "text/plain": [
       "((((*, 10, (*, 11, *)), 12, ((*, 13, ((*, 19, *), 39, *)), 42, *)), 43, (*, 44, *)), 73, ((*, 85, (*, 91, *)), 93, (*, 94, (*, 94, *))))"
      ]
     },
     "execution_count": 88,
     "metadata": {},
     "output_type": "execute_result"
    }
   ],
   "source": [
    "tree_test2 = BinaryTree()\n",
    "f = np.loadtxt(\"test2.txt\")\n",
    "for row in f:\n",
    "    for n in row:\n",
    "        tree_test2.insert(int(n))\n",
    "tree_test2"
   ]
  },
  {
   "cell_type": "code",
   "execution_count": 92,
   "id": "fb845886-1cdd-4d26-9b6c-597785dca132",
   "metadata": {},
   "outputs": [
    {
     "data": {
      "text/plain": [
       "((*, 0, *), 1, ((*, 192, *), 2, (*, 3, (*, 4, (*, 5, (*, 6, ((*, 72, *), 8, *)))))))"
      ]
     },
     "execution_count": 92,
     "metadata": {},
     "output_type": "execute_result"
    }
   ],
   "source": [
    "tree_test3 = BinaryTree()\n",
    "with open(\"test3.txt\", \"r\") as f:\n",
    "    for line in f:\n",
    "        line_=line.strip().split()\n",
    "        for n in line_:\n",
    "            tree_test3.insert(n)\n",
    "tree_test3"
   ]
  },
  {
   "cell_type": "code",
   "execution_count": 94,
   "id": "c40b77e5-c0cb-4e5b-b655-8a589fa3f4fc",
   "metadata": {},
   "outputs": [
    {
     "data": {
      "text/plain": [
       "(((*, 2, *), 4, (*, 6, (*, 9, *))), 10, *)"
      ]
     },
     "execution_count": 94,
     "metadata": {},
     "output_type": "execute_result"
    }
   ],
   "source": [
    "import json\n",
    "tree_test4 = BinaryTree()\n",
    "with open(\"test4.json\", \"r\") as f:\n",
    "    data = json.load(f)         \n",
    "    for numbers in data.values():\n",
    "        for num in numbers:\n",
    "            tree_test4.insert(num)\n",
    "tree_test4"
   ]
  },
  {
   "cell_type": "markdown",
   "id": "81808e9f-c780-4f78-bde4-9325795a5767",
   "metadata": {},
   "source": [
    "## Задание 7.4 Перегрузка операции принадлежности in\n"
   ]
  },
  {
   "cell_type": "code",
   "execution_count": 105,
   "id": "7e8252c6-22ed-4f53-b641-d759a95c7f4e",
   "metadata": {},
   "outputs": [],
   "source": [
    "class BinaryTree:\n",
    "    def __init__(self):\n",
    "        self.root = EmptyNode()\n",
    "    def __repr__(self):\n",
    "        return repr(self.root)\n",
    "    def insert(self, value):\n",
    "        self.root = self.root.insert(value)\n",
    "    def __contains__(self, value):\n",
    "        return value in self.root\n",
    "\n",
    "class BinaryNode:\n",
    "    def __init__(self, left, value, right):\n",
    "        self.left = left\n",
    "        self.value = value\n",
    "        self.right = right\n",
    "\n",
    "    def __repr__(self):\n",
    "        return f'({self.left}, {self.value}, {self.right})'\n",
    "\n",
    "    def insert(self, value):\n",
    "         if value<self.value:\n",
    "             self.left =self.left.insert(value)\n",
    "         else:\n",
    "             self.right =self.right.insert(value)\n",
    "         return self\n",
    "    def __contains__(self, value):\n",
    "        if value==self.value:\n",
    "            return True\n",
    "        if value<self.value:\n",
    "            return value in self.left\n",
    "        if value>self.value:\n",
    "            return value in self.right \n",
    "\n",
    "class EmptyNode:\n",
    "    def __repr__(self):\n",
    "        return '*'\n",
    "\n",
    "    def insert(self, value):\n",
    "        return BinaryNode(self, value, self)\n",
    "    def __contains__(self, value):\n",
    "        return False"
   ]
  },
  {
   "cell_type": "code",
   "execution_count": 107,
   "id": "44cdcc6a-6c71-492b-ac1e-c2ecc7e96278",
   "metadata": {},
   "outputs": [
    {
     "name": "stdout",
     "output_type": "stream",
     "text": [
      "(*, 5, *)\n",
      "((*, 1, *), 5, *)\n",
      "((*, 1, *), 5, (*, 10, *))\n",
      "((*, 1, (*, 3, *)), 5, (*, 10, *))\n",
      "((*, 1, (*, 3, (*, 4, *))), 5, (*, 10, *))\n",
      "(0, False) (1, True) (2, False) (3, True) (4, True) (5, True) (6, False) (7, False) (8, False) (9, False) "
     ]
    }
   ],
   "source": [
    "source_data = [5,1,10,3,4]\n",
    "tree = BinaryTree()\n",
    "for i in source_data:\n",
    "    tree.insert(i)\n",
    "    print(tree)\n",
    "for i in range(10):\n",
    "    print((i, i in tree), end = ' ')"
   ]
  },
  {
   "cell_type": "markdown",
   "id": "bed53d2f-bc5d-46e6-8d55-9be937bac12f",
   "metadata": {},
   "source": [
    "## Задание 7.5 Перегрузка встроенной функции len"
   ]
  },
  {
   "cell_type": "code",
   "execution_count": 112,
   "id": "0cd263d8-2d06-463e-814d-9d17ef6e7db9",
   "metadata": {},
   "outputs": [],
   "source": [
    "class BinaryTree:\n",
    "    def __init__(self):\n",
    "        BinaryNode.numberOfNodes = 0\n",
    "        self.root = EmptyNode()\n",
    "    def __repr__(self):\n",
    "        return repr(self.root)\n",
    "    def insert(self, value):\n",
    "        self.root = self.root.insert(value)\n",
    "    def __contains__(self, value):\n",
    "        return value in self.root\n",
    "    def __len__(self):\n",
    "        return len(self.root)\n",
    "\n",
    "class BinaryNode:\n",
    "    numberOfNodes = 0 \n",
    "    def __init__(self, left, value, right):\n",
    "        self.left = left\n",
    "        self.value = value\n",
    "        self.right = right\n",
    "        BinaryNode.numberOfNodes += 1 \n",
    "\n",
    "    def __repr__(self):\n",
    "        return f'({self.left}, {self.value}, {self.right})'\n",
    "\n",
    "    def insert(self, value):\n",
    "         if value<self.value:\n",
    "             self.left =self.left.insert(value)\n",
    "         else:\n",
    "             self.right =self.right.insert(value)\n",
    "         return self\n",
    "    def __contains__(self, value):\n",
    "        if value==self.value:\n",
    "            return True\n",
    "        if value<self.value:\n",
    "            return value in self.left\n",
    "        if value>self.value:\n",
    "            return value in self.right \n",
    "    def __len__(self):\n",
    "        return self.numberOfNodes\n",
    "\n",
    "class EmptyNode:\n",
    "    def __repr__(self):\n",
    "        return '*'\n",
    "\n",
    "    def insert(self, value):\n",
    "        return BinaryNode(self, value, self)\n",
    "    def __contains__(self, value):\n",
    "        return False\n",
    "    def __len__(self):\n",
    "        return 0"
   ]
  },
  {
   "cell_type": "code",
   "execution_count": 116,
   "id": "64d8f681-ba0e-4b6e-a184-337147919a25",
   "metadata": {},
   "outputs": [
    {
     "data": {
      "text/plain": [
       "5"
      ]
     },
     "execution_count": 116,
     "metadata": {},
     "output_type": "execute_result"
    }
   ],
   "source": [
    "tree = BinaryTree()\n",
    "for i in source_data:\n",
    " tree.insert(i)\n",
    "len(tree)"
   ]
  },
  {
   "cell_type": "code",
   "execution_count": null,
   "id": "d1ebe741-39b1-40d8-a3c9-6447a1825ded",
   "metadata": {},
   "outputs": [],
   "source": []
  }
 ],
 "metadata": {
  "kernelspec": {
   "display_name": "Python [conda env:base] *",
   "language": "python",
   "name": "conda-base-py"
  },
  "language_info": {
   "codemirror_mode": {
    "name": "ipython",
    "version": 3
   },
   "file_extension": ".py",
   "mimetype": "text/x-python",
   "name": "python",
   "nbconvert_exporter": "python",
   "pygments_lexer": "ipython3",
   "version": "3.12.3"
  }
 },
 "nbformat": 4,
 "nbformat_minor": 5
}
