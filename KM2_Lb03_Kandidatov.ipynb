{
 "cells": [
  {
   "cell_type": "markdown",
   "id": "a3eba2db-ebca-4fb6-a68a-085b9697e916",
   "metadata": {},
   "source": [
    "# Лабороторная работа 3"
   ]
  },
  {
   "cell_type": "markdown",
   "id": "fef2be84-9b0b-47a9-9bc3-d4bb53b9ebee",
   "metadata": {},
   "source": [
    "## Анимация движения секущей прямой к заданной линии на плоскости"
   ]
  },
  {
   "cell_type": "markdown",
   "id": "b59ecea8-ddce-48c7-bd63-df58109db031",
   "metadata": {},
   "source": [
    "## Кандидатов Егор Олегович, 13.03.2025"
   ]
  },
  {
   "cell_type": "code",
   "execution_count": 1,
   "id": "0104ce00-71e1-477a-8229-8a11ed015556",
   "metadata": {},
   "outputs": [],
   "source": [
    "from matplotlib.animation import FuncAnimation"
   ]
  },
  {
   "cell_type": "markdown",
   "id": "dbecab59-8740-4a5c-b0b8-2f948fc5b4fd",
   "metadata": {},
   "source": [
    "## Задание 3.1. Анимированное построение линии на плоскости"
   ]
  },
  {
   "cell_type": "code",
   "execution_count": 4,
   "id": "1a26787c-fb3f-44f9-bf8e-5beb3c4a0e56",
   "metadata": {},
   "outputs": [],
   "source": [
    "import numpy as np\n",
    "import matplotlib.pyplot as plt"
   ]
  },
  {
   "cell_type": "code",
   "execution_count": 6,
   "id": "c7b2c0b8-7908-4604-8907-1c9551a5c718",
   "metadata": {},
   "outputs": [],
   "source": [
    "%matplotlib widget"
   ]
  },
  {
   "cell_type": "code",
   "execution_count": 8,
   "id": "391b9314-880f-483e-98bd-3f50f667aa47",
   "metadata": {},
   "outputs": [],
   "source": [
    "def y(x):\n",
    "    return np.sin(x)**4"
   ]
  },
  {
   "cell_type": "code",
   "execution_count": 10,
   "id": "f2195ebd-4ddf-4c1b-8bf3-51b63de45c3b",
   "metadata": {},
   "outputs": [],
   "source": [
    "x_min = 1.; x_max = 5.; step = 0.05"
   ]
  },
  {
   "cell_type": "code",
   "execution_count": 12,
   "id": "48af760a-dedc-4b0b-b3c0-7ae486ab1a5c",
   "metadata": {},
   "outputs": [],
   "source": [
    "x_array = np.arange(x_min, x_max, step)\n",
    "y_array = y(x_array)"
   ]
  },
  {
   "cell_type": "code",
   "execution_count": 14,
   "id": "7fbc7b1d-d182-46d5-abfe-de7bb91f0a52",
   "metadata": {},
   "outputs": [],
   "source": [
    "matrix = np.transpose([x_array, y_array])"
   ]
  },
  {
   "cell_type": "code",
   "execution_count": 16,
   "id": "4b78cc41-b546-482f-9902-ec841d7dd2a0",
   "metadata": {
    "scrolled": true
   },
   "outputs": [
    {
     "data": {
      "application/vnd.jupyter.widget-view+json": {
       "model_id": "06f3ef50f61f446093de56c24aa1d13c",
       "version_major": 2,
       "version_minor": 0
      },
      "image/png": "[encoded data removed]",
      "text/html": [
       "\n",
       "            <div style=\"display: inline-block;\">\n",
       "                <div class=\"jupyter-widgets widget-label\" style=\"text-align: center;\">\n",
       "                    Figure\n",
       "                </div>\n",
       "                <img src='data:image/png;base64,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' width=640.0/>\n",
       "            </div>\n",
       "        "
      ],
      "text/plain": [
       "Canvas(toolbar=Toolbar(toolitems=[('Home', 'Reset original view', 'home', 'home'), ('Back', 'Back to previous …"
      ]
     },
     "metadata": {},
     "output_type": "display_data"
    }
   ],
   "source": [
    "fig1 = plt.figure()"
   ]
  },
  {
   "cell_type": "code",
   "execution_count": 18,
   "id": "e61ee986-c505-4ccf-9033-db9ae450ec21",
   "metadata": {},
   "outputs": [
    {
     "data": {
      "text/plain": [
       "(0.5, 5.5, -0.499999995004082, 1.4996930655910048)"
      ]
     },
     "execution_count": 18,
     "metadata": {},
     "output_type": "execute_result"
    }
   ],
   "source": [
    "y_min, y_max = np.min(y_array), np.max(y_array)\n",
    "ax1 = plt.axes()\n",
    "plt.axis([x_min-0.5, x_max+0.5, y_min-0.5, y_max+0.5])"
   ]
  },
  {
   "cell_type": "code",
   "execution_count": 20,
   "id": "7890df52-585a-4092-8a19-2b1891dd09dd",
   "metadata": {},
   "outputs": [
    {
     "name": "stdout",
     "output_type": "stream",
     "text": [
      "<class 'matplotlib.lines.Line2D'>\n"
     ]
    },
    {
     "data": {
      "text/plain": [
       "(array([], dtype=float64), array([], dtype=float64))"
      ]
     },
     "execution_count": 20,
     "metadata": {},
     "output_type": "execute_result"
    }
   ],
   "source": [
    "line1, = ax1.plot([],[],'b')\n",
    "print(type(line1))\n",
    "line1.get_xdata(), line1.get_ydata()"
   ]
  },
  {
   "cell_type": "code",
   "execution_count": 22,
   "id": "6868bd57-89d4-44ab-b01e-559883176796",
   "metadata": {},
   "outputs": [
    {
     "data": {
      "text/plain": [
       "\u001b[1;31mSignature:\u001b[0m \u001b[0mline1\u001b[0m\u001b[1;33m.\u001b[0m\u001b[0mget_xdata\u001b[0m\u001b[1;33m(\u001b[0m\u001b[0morig\u001b[0m\u001b[1;33m=\u001b[0m\u001b[1;32mTrue\u001b[0m\u001b[1;33m)\u001b[0m\u001b[1;33m\u001b[0m\u001b[1;33m\u001b[0m\u001b[0m\n",
       "\u001b[1;31mDocstring:\u001b[0m\n",
       "Return the xdata.\n",
       "\n",
       "If *orig* is *True*, return the original data, else the\n",
       "processed data.\n",
       "\u001b[1;31mFile:\u001b[0m      c:\\users\\egork\\anaconda3\\lib\\site-packages\\matplotlib\\lines.py\n",
       "\u001b[1;31mType:\u001b[0m      method"
      ]
     },
     "metadata": {},
     "output_type": "display_data"
    }
   ],
   "source": [
    "?line1.get_xdata"
   ]
  },
  {
   "cell_type": "code",
   "execution_count": 24,
   "id": "d99e44ed-0cd6-4585-8a88-a78f2850a9e8",
   "metadata": {},
   "outputs": [],
   "source": [
    "def at_frame1(point):\n",
    "\n",
    "    \"\"\"добавляет к объекту line1 точку с координатами (point[0],point[1])\n",
    "\n",
    " Arguments :\n",
    "\n",
    " point : массив из двух элементов\n",
    "\n",
    " Returns : None\"\"\"\n",
    "\n",
    "    x_coord = list(line1.get_xdata())\n",
    "    y_coord = list(line1.get_ydata())\n",
    "\n",
    "    x_coord.append(point[0])\n",
    "    y_coord.append(point[1])\n",
    "\n",
    "    line1.set_data(x_coord, y_coord)"
   ]
  },
  {
   "cell_type": "code",
   "execution_count": 26,
   "id": "4173ac17-4ac0-4e2f-9c91-dd5810c08c9d",
   "metadata": {},
   "outputs": [
    {
     "name": "stdout",
     "output_type": "stream",
     "text": [
      "Help on function at_frame1 in module __main__:\n",
      "\n",
      "at_frame1(point)\n",
      "    добавляет к объекту line1 точку с координатами (point[0],point[1])\n",
      "\n",
      "    Arguments :\n",
      "\n",
      "    point : массив из двух элементов\n",
      "\n",
      "    Returns : None\n",
      "\n"
     ]
    }
   ],
   "source": [
    "help(at_frame1)"
   ]
  },
  {
   "cell_type": "code",
   "execution_count": 28,
   "id": "29947ed5-087c-4341-808a-7f6c47204c30",
   "metadata": {},
   "outputs": [
    {
     "data": {
      "text/plain": [
       "\u001b[1;31mSignature:\u001b[0m \u001b[0mat_frame1\u001b[0m\u001b[1;33m(\u001b[0m\u001b[0mpoint\u001b[0m\u001b[1;33m)\u001b[0m\u001b[1;33m\u001b[0m\u001b[1;33m\u001b[0m\u001b[0m\n",
       "\u001b[1;31mDocstring:\u001b[0m\n",
       "добавляет к объекту line1 точку с координатами (point[0],point[1])\n",
       "\n",
       "Arguments :\n",
       "\n",
       "point : массив из двух элементов\n",
       "\n",
       "Returns : None\n",
       "\u001b[1;31mFile:\u001b[0m      c:\\users\\egork\\appdata\\local\\temp\\ipykernel_17764\\1704284669.py\n",
       "\u001b[1;31mType:\u001b[0m      function"
      ]
     },
     "metadata": {},
     "output_type": "display_data"
    }
   ],
   "source": [
    "?at_frame1"
   ]
  },
  {
   "cell_type": "code",
   "execution_count": 30,
   "id": "c52d05a8-8bbf-4839-b002-7a18b8e0a803",
   "metadata": {},
   "outputs": [
    {
     "name": "stdout",
     "output_type": "stream",
     "text": [
      "добавляет к объекту line1 точку с координатами (point[0],point[1])\n",
      "\n",
      " Arguments :\n",
      "\n",
      " point : массив из двух элементов\n",
      "\n",
      " Returns : None\n"
     ]
    }
   ],
   "source": [
    "print(at_frame1.__doc__)"
   ]
  },
  {
   "cell_type": "code",
   "execution_count": 32,
   "id": "7138edcd-9371-4823-9705-7ebfc4520c30",
   "metadata": {},
   "outputs": [
    {
     "data": {
      "text/plain": [
       "\u001b[1;31mInit signature:\u001b[0m\n",
       "\u001b[0mFuncAnimation\u001b[0m\u001b[1;33m(\u001b[0m\u001b[1;33m\n",
       "\u001b[0m    \u001b[0mfig\u001b[0m\u001b[1;33m,\u001b[0m\u001b[1;33m\n",
       "\u001b[0m    \u001b[0mfunc\u001b[0m\u001b[1;33m,\u001b[0m\u001b[1;33m\n",
       "\u001b[0m    \u001b[0mframes\u001b[0m\u001b[1;33m=\u001b[0m\u001b[1;32mNone\u001b[0m\u001b[1;33m,\u001b[0m\u001b[1;33m\n",
       "\u001b[0m    \u001b[0minit_func\u001b[0m\u001b[1;33m=\u001b[0m\u001b[1;32mNone\u001b[0m\u001b[1;33m,\u001b[0m\u001b[1;33m\n",
       "\u001b[0m    \u001b[0mfargs\u001b[0m\u001b[1;33m=\u001b[0m\u001b[1;32mNone\u001b[0m\u001b[1;33m,\u001b[0m\u001b[1;33m\n",
       "\u001b[0m    \u001b[0msave_count\u001b[0m\u001b[1;33m=\u001b[0m\u001b[1;32mNone\u001b[0m\u001b[1;33m,\u001b[0m\u001b[1;33m\n",
       "\u001b[0m    \u001b[1;33m*\u001b[0m\u001b[1;33m,\u001b[0m\u001b[1;33m\n",
       "\u001b[0m    \u001b[0mcache_frame_data\u001b[0m\u001b[1;33m=\u001b[0m\u001b[1;32mTrue\u001b[0m\u001b[1;33m,\u001b[0m\u001b[1;33m\n",
       "\u001b[0m    \u001b[1;33m**\u001b[0m\u001b[0mkwargs\u001b[0m\u001b[1;33m,\u001b[0m\u001b[1;33m\n",
       "\u001b[0m\u001b[1;33m)\u001b[0m\u001b[1;33m\u001b[0m\u001b[1;33m\u001b[0m\u001b[0m\n",
       "\u001b[1;31mDocstring:\u001b[0m     \n",
       "`TimedAnimation` subclass that makes an animation by repeatedly calling\n",
       "a function *func*.\n",
       "\n",
       ".. note::\n",
       "\n",
       "    You must store the created Animation in a variable that lives as long\n",
       "    as the animation should run. Otherwise, the Animation object will be\n",
       "    garbage-collected and the animation stops.\n",
       "\n",
       "Parameters\n",
       "----------\n",
       "fig : `~matplotlib.figure.Figure`\n",
       "    The figure object used to get needed events, such as draw or resize.\n",
       "\n",
       "func : callable\n",
       "    The function to call at each frame.  The first argument will\n",
       "    be the next value in *frames*.   Any additional positional\n",
       "    arguments can be supplied using `functools.partial` or via the *fargs*\n",
       "    parameter.\n",
       "\n",
       "    The required signature is::\n",
       "\n",
       "        def func(frame, *fargs) -> iterable_of_artists\n",
       "\n",
       "    It is often more convenient to provide the arguments using\n",
       "    `functools.partial`. In this way it is also possible to pass keyword\n",
       "    arguments. To pass a function with both positional and keyword\n",
       "    arguments, set all arguments as keyword arguments, just leaving the\n",
       "    *frame* argument unset::\n",
       "\n",
       "        def func(frame, art, *, y=None):\n",
       "            ...\n",
       "\n",
       "        ani = FuncAnimation(fig, partial(func, art=ln, y='foo'))\n",
       "\n",
       "    If ``blit == True``, *func* must return an iterable of all artists\n",
       "    that were modified or created. This information is used by the blitting\n",
       "    algorithm to determine which parts of the figure have to be updated.\n",
       "    The return value is unused if ``blit == False`` and may be omitted in\n",
       "    that case.\n",
       "\n",
       "frames : iterable, int, generator function, or None, optional\n",
       "    Source of data to pass *func* and each frame of the animation\n",
       "\n",
       "    - If an iterable, then simply use the values provided.  If the\n",
       "      iterable has a length, it will override the *save_count* kwarg.\n",
       "\n",
       "    - If an integer, then equivalent to passing ``range(frames)``\n",
       "\n",
       "    - If a generator function, then must have the signature::\n",
       "\n",
       "         def gen_function() -> obj\n",
       "\n",
       "    - If *None*, then equivalent to passing ``itertools.count``.\n",
       "\n",
       "    In all of these cases, the values in *frames* is simply passed through\n",
       "    to the user-supplied *func* and thus can be of any type.\n",
       "\n",
       "init_func : callable, optional\n",
       "    A function used to draw a clear frame. If not given, the results of\n",
       "    drawing from the first item in the frames sequence will be used. This\n",
       "    function will be called once before the first frame.\n",
       "\n",
       "    The required signature is::\n",
       "\n",
       "        def init_func() -> iterable_of_artists\n",
       "\n",
       "    If ``blit == True``, *init_func* must return an iterable of artists\n",
       "    to be re-drawn. This information is used by the blitting algorithm to\n",
       "    determine which parts of the figure have to be updated.  The return\n",
       "    value is unused if ``blit == False`` and may be omitted in that case.\n",
       "\n",
       "fargs : tuple or None, optional\n",
       "    Additional arguments to pass to each call to *func*. Note: the use of\n",
       "    `functools.partial` is preferred over *fargs*. See *func* for details.\n",
       "\n",
       "save_count : int, optional\n",
       "    Fallback for the number of values from *frames* to cache. This is\n",
       "    only used if the number of frames cannot be inferred from *frames*,\n",
       "    i.e. when it's an iterator without length or a generator.\n",
       "\n",
       "interval : int, default: 200\n",
       "    Delay between frames in milliseconds.\n",
       "\n",
       "repeat_delay : int, default: 0\n",
       "    The delay in milliseconds between consecutive animation runs, if\n",
       "    *repeat* is True.\n",
       "\n",
       "repeat : bool, default: True\n",
       "    Whether the animation repeats when the sequence of frames is completed.\n",
       "\n",
       "blit : bool, default: False\n",
       "    Whether blitting is used to optimize drawing.  Note: when using\n",
       "    blitting, any animated artists will be drawn according to their zorder;\n",
       "    however, they will be drawn on top of any previous artists, regardless\n",
       "    of their zorder.\n",
       "\n",
       "cache_frame_data : bool, default: True\n",
       "    Whether frame data is cached.  Disabling cache might be helpful when\n",
       "    frames contain large objects.\n",
       "\u001b[1;31mFile:\u001b[0m           c:\\users\\egork\\anaconda3\\lib\\site-packages\\matplotlib\\animation.py\n",
       "\u001b[1;31mType:\u001b[0m           type\n",
       "\u001b[1;31mSubclasses:\u001b[0m     "
      ]
     },
     "metadata": {},
     "output_type": "display_data"
    }
   ],
   "source": [
    "?FuncAnimation"
   ]
  },
  {
   "cell_type": "code",
   "execution_count": 34,
   "id": "8d8cc200-9b1e-44dc-9ffe-32fefbf17349",
   "metadata": {
    "scrolled": true
   },
   "outputs": [
    {
     "data": {
      "text/plain": [
       "<matplotlib.animation.FuncAnimation at 0x21082f660f0>"
      ]
     },
     "execution_count": 34,
     "metadata": {},
     "output_type": "execute_result"
    },
    {
     "data": {
      "application/vnd.jupyter.widget-view+json": {
       "model_id": "9661f7e597fd47a1983da7b05bc62850",
       "version_major": 2,
       "version_minor": 0
      },
      "image/png": "[encoded data removed]",
      "text/html": [
       "\n",
       "            <div style=\"display: inline-block;\">\n",
       "                <div class=\"jupyter-widgets widget-label\" style=\"text-align: center;\">\n",
       "                    Figure\n",
       "                </div>\n",
       "                <img src='data:image/png;base64,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' width=640.0/>\n",
       "            </div>\n",
       "        "
      ],
      "text/plain": [
       "Canvas(toolbar=Toolbar(toolitems=[('Home', 'Reset original view', 'home', 'home'), ('Back', 'Back to previous …"
      ]
     },
     "metadata": {},
     "output_type": "display_data"
    }
   ],
   "source": [
    "fig1 = plt.figure()\n",
    "ax1 = plt.axes()\n",
    "plt.axis([x_min-0.5, x_max+0.5, y_min-0.5, y_max+0.5])\n",
    "line1, = ax1.plot([],[],'b')\n",
    "\n",
    "FuncAnimation(fig1, at_frame1, frames = matrix, repeat = False, interval = 20)"
   ]
  },
  {
   "cell_type": "code",
   "execution_count": 36,
   "id": "c868672c-d016-48b0-98fe-433b902b561f",
   "metadata": {},
   "outputs": [],
   "source": [
    "plt.close('all')"
   ]
  },
  {
   "cell_type": "markdown",
   "id": "3c2e1cf1-0ca7-466a-9c15-5f5fe9a82962",
   "metadata": {},
   "source": [
    "## Реализация Задания 3.1b"
   ]
  },
  {
   "cell_type": "code",
   "execution_count": 39,
   "id": "1e81f587-fd52-4197-be62-7cc00bc699db",
   "metadata": {},
   "outputs": [],
   "source": [
    "def y(t):\n",
    "    return np.arcsin(t - 1)"
   ]
  },
  {
   "cell_type": "code",
   "execution_count": 41,
   "id": "758b3248-b130-47e1-aada-8ab507eb1594",
   "metadata": {},
   "outputs": [],
   "source": [
    "def x(t):\n",
    "    return np.sqrt(2*t - t**2)"
   ]
  },
  {
   "cell_type": "code",
   "execution_count": 43,
   "id": "d784278e-ecc2-45a9-85ab-2fe7f2016e7f",
   "metadata": {},
   "outputs": [],
   "source": [
    "x_min1 = 0.; x_max1 = 2.; step1 = (x_max1 - x_min1)/100"
   ]
  },
  {
   "cell_type": "code",
   "execution_count": 45,
   "id": "e3496b4b-095a-4907-ab3f-4886fb5e7b97",
   "metadata": {},
   "outputs": [],
   "source": [
    "t = np.arange(x_min1, x_max1, step1)\n",
    "x_array1 = x(t)\n",
    "y_array1 = y(t)\n",
    "matrix1 = np.transpose([x_array1, y_array1])"
   ]
  },
  {
   "cell_type": "code",
   "execution_count": 47,
   "id": "6e906836-7009-4ef9-92e6-cf6516764794",
   "metadata": {},
   "outputs": [
    {
     "data": {
      "text/plain": [
       "(-0.25, 1.25, -1.8207963267948966, 1.620461484471777)"
      ]
     },
     "execution_count": 47,
     "metadata": {},
     "output_type": "execute_result"
    },
    {
     "data": {
      "application/vnd.jupyter.widget-view+json": {
       "model_id": "4ec9503fa94244838a5db73fa35871a6",
       "version_major": 2,
       "version_minor": 0
      },
      "image/png": "[encoded data removed]",
      "text/html": [
       "\n",
       "            <div style=\"display: inline-block;\">\n",
       "                <div class=\"jupyter-widgets widget-label\" style=\"text-align: center;\">\n",
       "                    Figure\n",
       "                </div>\n",
       "                <img src='data:image/png;base64,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' width=640.0/>\n",
       "            </div>\n",
       "        "
      ],
      "text/plain": [
       "Canvas(toolbar=Toolbar(toolitems=[('Home', 'Reset original view', 'home', 'home'), ('Back', 'Back to previous …"
      ]
     },
     "metadata": {},
     "output_type": "display_data"
    }
   ],
   "source": [
    "fig2 = plt.figure()\n",
    "ax2 = plt.axes()\n",
    "y_min1, y_max1, x_min1, x_max1 = np.min(y_array1), np.max(y_array1), np.min(x_array1), np.max(x_array1)\n",
    "plt.axis([x_min1 - 0.25, x_max1 + 0.25, y_min1 - 0.25, y_max1 + 0.25]) "
   ]
  },
  {
   "cell_type": "code",
   "execution_count": 49,
   "id": "60e61fea-f81e-4c8d-a474-b1073ecbd6cc",
   "metadata": {},
   "outputs": [
    {
     "data": {
      "text/plain": [
       "<matplotlib.animation.FuncAnimation at 0x21083752720>"
      ]
     },
     "execution_count": 49,
     "metadata": {},
     "output_type": "execute_result"
    }
   ],
   "source": [
    "line2, = ax2.plot([], [], \"b\")\n",
    "line2.get_xdata(), line2.get_ydata\n",
    "def at_frame2(point):\n",
    "    x_coord2 = list(line2.get_xdata())\n",
    "    y_coord2 = list(line2.get_ydata())\n",
    "    x_coord2.append(point[0])\n",
    "    y_coord2.append(point[1])\n",
    "    line2.set_data(x_coord2, y_coord2)\n",
    "FuncAnimation(fig2, at_frame2, frames = matrix1, repeat = False, interval = 10)"
   ]
  },
  {
   "cell_type": "code",
   "execution_count": 51,
   "id": "17c761d4-3e4b-4de4-aaa6-2069be51077a",
   "metadata": {},
   "outputs": [],
   "source": [
    "plt.close('all')"
   ]
  },
  {
   "cell_type": "markdown",
   "id": "8164c7b7-46df-40b8-a4e5-991a0963802a",
   "metadata": {},
   "source": [
    "## Задание 3.2. Движение точки по линии на плоскости"
   ]
  },
  {
   "cell_type": "code",
   "execution_count": 54,
   "id": "0bc6518d-cd0a-4dc2-8a53-162159403585",
   "metadata": {
    "scrolled": true
   },
   "outputs": [
    {
     "data": {
      "application/vnd.jupyter.widget-view+json": {
       "model_id": "6bd121b59a4e44f999b15b8924e430a5",
       "version_major": 2,
       "version_minor": 0
      },
      "image/png": "[encoded data removed]",
      "text/html": [
       "\n",
       "            <div style=\"display: inline-block;\">\n",
       "                <div class=\"jupyter-widgets widget-label\" style=\"text-align: center;\">\n",
       "                    Figure\n",
       "                </div>\n",
       "                <img src='data:image/png;base64,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' width=640.0/>\n",
       "            </div>\n",
       "        "
      ],
      "text/plain": [
       "Canvas(toolbar=Toolbar(toolitems=[('Home', 'Reset original view', 'home', 'home'), ('Back', 'Back to previous …"
      ]
     },
     "metadata": {},
     "output_type": "display_data"
    }
   ],
   "source": [
    "fig2 = plt.figure()\n",
    "ax2 = plt.axes()\n",
    "plt.axis([x_min1-0.5, x_max1+0.5, y_min1-0.5, y_max1+0.5])\n",
    "line2, = ax2.plot(x_array1, y_array1,'b') # объект для графика функции\n",
    "line3, = ax2.plot([], [],'go') # объект для точки"
   ]
  },
  {
   "cell_type": "code",
   "execution_count": 56,
   "id": "3b75f78c-78c1-4798-b2f2-0117fcebd6ae",
   "metadata": {},
   "outputs": [],
   "source": [
    "def at_frame3(point):\n",
    " \"\"\"задает объект line3 точкой с координатами (point[0],point[1])\n",
    " Arguments :\n",
    " point : массив из двух элементов\n",
    " Returns : None\n",
    " \"\"\"\n",
    " line3.set_data([point[0]],[point[1]])"
   ]
  },
  {
   "cell_type": "code",
   "execution_count": 58,
   "id": "f9921631-f3bb-41d8-b1ad-7aeb3e46422a",
   "metadata": {},
   "outputs": [
    {
     "data": {
      "text/plain": [
       "<matplotlib.animation.FuncAnimation at 0x210837e1940>"
      ]
     },
     "execution_count": 58,
     "metadata": {},
     "output_type": "execute_result"
    },
    {
     "data": {
      "application/vnd.jupyter.widget-view+json": {
       "model_id": "55f7be6a1109432eac01cc99f7dc49a1",
       "version_major": 2,
       "version_minor": 0
      },
      "image/png": "[encoded data removed]",
      "text/html": [
       "\n",
       "            <div style=\"display: inline-block;\">\n",
       "                <div class=\"jupyter-widgets widget-label\" style=\"text-align: center;\">\n",
       "                    Figure\n",
       "                </div>\n",
       "                <img src='data:image/png;base64,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' width=640.0/>\n",
       "            </div>\n",
       "        "
      ],
      "text/plain": [
       "Canvas(toolbar=Toolbar(toolitems=[('Home', 'Reset original view', 'home', 'home'), ('Back', 'Back to previous …"
      ]
     },
     "metadata": {},
     "output_type": "display_data"
    }
   ],
   "source": [
    "fig2 = plt.figure()\n",
    "ax2 = plt.axes()\n",
    "plt.axis([x_min1-0.5, x_max1+0.5, y_min1-0.5, y_max1+0.5])\n",
    "def init():\n",
    " \"\"\"создает начальное состояние графической области\"\"\"\n",
    " global line3 # переменная сделана глобальной, чтобы она могла изменяться вну\n",
    "\n",
    " line2, = ax2.plot(x_array1, y_array1,'b')\n",
    " line3, = ax2.plot([], [],'go')\n",
    " plt.legend([r'$y = \\arcsin(t-1),\\ x=\\sqrt{2t-t^2}$','Мovable point'])\n",
    "FuncAnimation(fig2, at_frame3, frames=matrix1, init_func=init,\n",
    " repeat=False, interval=20)"
   ]
  },
  {
   "cell_type": "code",
   "execution_count": 60,
   "id": "a41dc719-76af-4cf6-a245-c152f5fa72c0",
   "metadata": {},
   "outputs": [],
   "source": [
    "plt.close('all')"
   ]
  },
  {
   "cell_type": "markdown",
   "id": "d139bba0-708f-4785-8381-448f23947125",
   "metadata": {},
   "source": [
    "## Задание 3.3. Движение секущей прямой к заданной линии на плоскости"
   ]
  },
  {
   "cell_type": "code",
   "execution_count": 63,
   "id": "860f74a6-bae8-4e5a-842b-c60ac703418c",
   "metadata": {},
   "outputs": [
    {
     "data": {
      "text/plain": [
       "<matplotlib.animation.FuncAnimation at 0x210830499a0>"
      ]
     },
     "execution_count": 63,
     "metadata": {},
     "output_type": "execute_result"
    },
    {
     "data": {
      "application/vnd.jupyter.widget-view+json": {
       "model_id": "2240f5b5393542b589a07598c0d929ab",
       "version_major": 2,
       "version_minor": 0
      },
      "image/png": "[encoded data removed]",
      "text/html": [
       "\n",
       "            <div style=\"display: inline-block;\">\n",
       "                <div class=\"jupyter-widgets widget-label\" style=\"text-align: center;\">\n",
       "                    Figure\n",
       "                </div>\n",
       "                <img src='data:image/png;base64,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' width=640.0/>\n",
       "            </div>\n",
       "        "
      ],
      "text/plain": [
       "Canvas(toolbar=Toolbar(toolitems=[('Home', 'Reset original view', 'home', 'home'), ('Back', 'Back to previous …"
      ]
     },
     "metadata": {},
     "output_type": "display_data"
    }
   ],
   "source": [
    "fig3 = plt.figure()\n",
    "ax3 = plt.axes()\n",
    "plt.axis([x_min-1, x_max+1, y_min-1, y_max+1])\n",
    "def init1():\n",
    "\n",
    "    global point_B, secant_line # переменные сделаны глобальными, чтобы они были\n",
    "\n",
    "    curve, = ax3.plot(x_array, y_array,'b') # графический объект для исходной фу\n",
    "\n",
    "    A = np.array([x_array[0], y_array[0]])\n",
    "    point_A, = ax3.plot(A[0],A[1],'ro') # графический объект для неподвижной точ\n",
    "\n",
    "    B = np.array([x_array[-1], y_array[-1]])\n",
    "    point_B, = ax3.plot(B[0],B[1],'go') # графический объект для подвижной точки\n",
    "\n",
    "    secant_p = [A + (B - A)*t for t in [-2, 2]] # две точки секущей прямой, прох\n",
    "    secant_p = np.array(secant_p)\n",
    "    secant_line, = ax3.plot(secant_p[:,0], secant_p[:,1],'g') # графический объе\n",
    "\n",
    "    plt.legend([r'$y(x) = \\sin(x)^4$','Unmovable point A','Мovable point B','Sec'])\n",
    "\n",
    "def at_frame4(point):\n",
    "\n",
    "    global point_B, secant_line\n",
    "    A = np.array([x_array[0], y_array[0]])\n",
    "    B = np.array([point[0], point[1]])\n",
    "    point_B.set_data([point[0]], [point[1]])\n",
    "    if B[0]==A[0]:\n",
    "        t = sympy.Symbol('t')\n",
    "        y_x=sympy.sin(t)**4\n",
    "        y_difx = sympy.diff(y_x, t) \n",
    "        k=y_difx.subs(t, A[0])\n",
    "        y_kasstart = np.array([A[0],A[1]])\n",
    "        y_kasend = np.array([A[0]+1,k+A[1]])\n",
    "        y_kas=[y_kasstart+ (y_kasend-y_kasstart)*t for t in [-10, 10]]\n",
    "        y_kas = np.array(y_kas)\n",
    "        secant_line.set_data(y_kas[:,0], y_kas[:,1])\n",
    "        secant_line.set_color('r')\n",
    "    else:\n",
    "        secant_p = [A + (B - A)*l for l in [-15, 15]] \n",
    "        secant_p = np.array(secant_p)\n",
    "        secant_line.set_data(secant_p[:,0], secant_p[:,1])\n",
    "\n",
    "FuncAnimation(fig3, at_frame4, frames=matrix[::-1],\n",
    " init_func=init1, repeat=False, interval=20)"
   ]
  },
  {
   "cell_type": "code",
   "execution_count": 65,
   "id": "d194cdb8-d555-4876-b663-d5c4d48419e5",
   "metadata": {},
   "outputs": [],
   "source": [
    "plt.close('all')"
   ]
  },
  {
   "cell_type": "markdown",
   "id": "7ac9591f-ff3e-4a08-80be-801d7645d06c",
   "metadata": {},
   "source": [
    "## Задание 3.4. Движение секущей прямой к заданной линии на плоскости (версия 2)"
   ]
  },
  {
   "cell_type": "code",
   "execution_count": 68,
   "id": "9aac0754-54c3-4469-9994-4369a3ed5a4a",
   "metadata": {},
   "outputs": [
    {
     "data": {
      "text/plain": [
       "<matplotlib.animation.FuncAnimation at 0x21084e05970>"
      ]
     },
     "execution_count": 68,
     "metadata": {},
     "output_type": "execute_result"
    },
    {
     "data": {
      "application/vnd.jupyter.widget-view+json": {
       "model_id": "006bebe039ca4d6b8eacced638f06997",
       "version_major": 2,
       "version_minor": 0
      },
      "image/png": "[encoded data removed]",
      "text/html": [
       "\n",
       "            <div style=\"display: inline-block;\">\n",
       "                <div class=\"jupyter-widgets widget-label\" style=\"text-align: center;\">\n",
       "                    Figure\n",
       "                </div>\n",
       "                <img src='data:image/png;base64,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' width=640.0/>\n",
       "            </div>\n",
       "        "
      ],
      "text/plain": [
       "Canvas(toolbar=Toolbar(toolitems=[('Home', 'Reset original view', 'home', 'home'), ('Back', 'Back to previous …"
      ]
     },
     "metadata": {},
     "output_type": "display_data"
    }
   ],
   "source": [
    "fig4 = plt.figure()\n",
    "ax4 = plt.axes()\n",
    "plt.axis([x_min1-1, x_max1+1, y_min1-1, y_max1+1])\n",
    "def init2():\n",
    "\n",
    "    global point_B, secant_line # переменные сделаны глобальными, чтобы они были\n",
    "\n",
    "    curve, = ax4.plot(x_array1, y_array1,'b') # графический объект для исходной фу\n",
    "\n",
    "    A = np.array([x_array1[0], y_array1[0]])\n",
    "    point_A, = ax4.plot(A[0],A[1],'ro') # графический объект для неподвижной точ\n",
    "\n",
    "    B = np.array([x_array1[-1], y_array1[-1]])\n",
    "    point_B, = ax4.plot(B[0],B[1],'go') # графический объект для подвижной точки\n",
    "\n",
    "    secant_p = [A + (B - A)*t for t in [-2, 2]] # две точки секущей прямой, прох\n",
    "    secant_p = np.array(secant_p)\n",
    "    secant_line, = ax4.plot(secant_p[:,0], secant_p[:,1],'r') # графический объе\n",
    "\n",
    "    plt.legend([r'$y = \\arcsin(t-1),\\ x=\\sqrt{2t-t^2}$','Unmovable point A','Мovable point B','Sec'])\n",
    "\n",
    "def at_frame5(point):\n",
    "\n",
    "    global point_B, secant_line\n",
    "    A = np.array([x_array1[0], y_array1[0]])\n",
    "    B = np.array([point[0], point[1]])\n",
    "    point_B.set_data([point[0]], [point[1]])\n",
    "    if B[0]==A[0]:\n",
    "        t = sympy.Symbol('t')\n",
    "        y_x=sympy.arcsin(t-1)\n",
    "        y_difx = sympy.diff(y_x, t) \n",
    "        k=y_difx.subs(t, A[0])\n",
    "        y_kasstart = np.array([A[0],A[1]])\n",
    "        y_kasend = np.array([A[0]+1,k+A[1]])\n",
    "        y_kas=[y_kasstart+ (y_kasend-y_kasstart)*t for t in [-10, 10]]\n",
    "        y_kas = np.array(y_kas)\n",
    "        secant_line.set_data(y_kas[:,0], y_kas[:,1])\n",
    "        secant_line.set_color('r')\n",
    "    else:\n",
    "        secant_p = [A + (B - A)*l for l in [-15, 15]] \n",
    "        secant_p = np.array(secant_p)\n",
    "        secant_line.set_data(secant_p[:,0], secant_p[:,1])\n",
    "\n",
    "FuncAnimation(fig4, at_frame5, frames=matrix1[::-1],\n",
    " init_func=init2, repeat=False, interval=20)"
   ]
  },
  {
   "cell_type": "code",
   "execution_count": 70,
   "id": "5b0e82a1-3679-4726-932b-fb9b4a0af71b",
   "metadata": {},
   "outputs": [],
   "source": [
    "plt.close('all')"
   ]
  },
  {
   "cell_type": "code",
   "execution_count": null,
   "id": "0c53c221-7e2e-4a61-82a8-e5d9d5656dda",
   "metadata": {},
   "outputs": [],
   "source": []
  }
 ],
 "metadata": {
  "kernelspec": {
   "display_name": "Python [conda env:base] *",
   "language": "python",
   "name": "conda-base-py"
  },
  "language_info": {
   "codemirror_mode": {
    "name": "ipython",
    "version": 3
   },
   "file_extension": ".py",
   "mimetype": "text/x-python",
   "name": "python",
   "nbconvert_exporter": "python",
   "pygments_lexer": "ipython3",
   "version": "3.12.7"
  }
 },
 "nbformat": 4,
 "nbformat_minor": 5
}
