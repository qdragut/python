{
 "cells": [
  {
   "cell_type": "markdown",
   "id": "c873250e-0b4d-44d4-b305-9ad16612d7c3",
   "metadata": {},
   "source": [
    "# Лабороторная работа 2"
   ]
  },
  {
   "cell_type": "markdown",
   "id": "1e8a4423-089f-444d-b7c6-6275df7c3c2f",
   "metadata": {},
   "source": [
    "## Встроеные типы объектов в Python"
   ]
  },
  {
   "cell_type": "markdown",
   "id": "1133e947-786a-4bae-825a-258b62ec9429",
   "metadata": {
    "jp-MarkdownHeadingCollapsed": true
   },
   "source": [
    "## Кандидатов Егор Олегович, 12.03.2025"
   ]
  },
  {
   "cell_type": "markdown",
   "id": "810db539-397e-42a5-8702-1c3e2f38cdee",
   "metadata": {},
   "source": [
    "## Задание 1. Построение иерархии встроенных типов в Python"
   ]
  },
  {
   "cell_type": "markdown",
   "id": "9cbac612-8daf-452d-a4e6-b35dd5a0ce5d",
   "metadata": {},
   "source": [
    "![Иерархия типов Python](type_hierarchy.png)"
   ]
  },
  {
   "cell_type": "markdown",
   "id": "8639490d-abdc-4899-acf8-e10b5d60ae1c",
   "metadata": {},
   "source": [
    "Изображение было создано с помощью Wolfram, использовались команды Tree, ImageSize, ImageResolution"
   ]
  },
  {
   "cell_type": "markdown",
   "id": "402e163e-59b0-499f-b9d5-5250a9c7843b",
   "metadata": {},
   "source": [
    "## Задание 2.1"
   ]
  },
  {
   "cell_type": "markdown",
   "id": "4ee15bde-bc75-40ae-9a93-9ac5ae5f637a",
   "metadata": {},
   "source": [
    "### Проработка примеров, представленных в лекционном файле"
   ]
  },
  {
   "cell_type": "code",
   "execution_count": 33,
   "id": "7a5a64cc-f11a-4b14-a271-fdd430731277",
   "metadata": {},
   "outputs": [
    {
     "data": {
      "text/plain": [
       "(int, str, list)"
      ]
     },
     "execution_count": 33,
     "metadata": {},
     "output_type": "execute_result"
    }
   ],
   "source": [
    "type(1), type('1'), type([1])"
   ]
  },
  {
   "cell_type": "code",
   "execution_count": 27,
   "id": "599d4d95-0ba8-4933-8fdd-d6b08a500526",
   "metadata": {},
   "outputs": [
    {
     "name": "stdout",
     "output_type": "stream",
     "text": [
      "[<class 'int'>, <class 'float'>, <class 'complex'>, <class 'str'>, <class 'list'>, <class 'tuple'>, <class 'set'>, <class 'dict'>]\n"
     ]
    }
   ],
   "source": [
    "print([type(obj) for obj in [1, 1., 1j, '1', [1], (1,), {1}, {1:1}]])"
   ]
  },
  {
   "cell_type": "code",
   "execution_count": 29,
   "id": "85be6ff2-07be-4722-81c0-38470a2a8e14",
   "metadata": {},
   "outputs": [
    {
     "data": {
      "text/plain": [
       "(0, 0.0, 0j, '', [], (), {}, {1})"
      ]
     },
     "execution_count": 29,
     "metadata": {},
     "output_type": "execute_result"
    }
   ],
   "source": [
    "int(), float(), complex(), str(), list(), tuple(), dict(), set([1])"
   ]
  },
  {
   "cell_type": "code",
   "execution_count": 35,
   "id": "25b260b7-acc2-40aa-9916-13b891b14a03",
   "metadata": {},
   "outputs": [
    {
     "data": {
      "text/plain": [
       "((3+4j), 1j, (1+1j))"
      ]
     },
     "execution_count": 35,
     "metadata": {},
     "output_type": "execute_result"
    }
   ],
   "source": [
    "3+4j, 1J, complex(1,1)"
   ]
  },
  {
   "cell_type": "code",
   "execution_count": 37,
   "id": "002eda47-a370-47eb-afc5-b09c0d6e031e",
   "metadata": {},
   "outputs": [
    {
     "data": {
      "text/plain": [
       "\u001b[1;31mSignature:\u001b[0m \u001b[0mabs\u001b[0m\u001b[1;33m(\u001b[0m\u001b[0mx\u001b[0m\u001b[1;33m,\u001b[0m \u001b[1;33m/\u001b[0m\u001b[1;33m)\u001b[0m\u001b[1;33m\u001b[0m\u001b[1;33m\u001b[0m\u001b[0m\n",
       "\u001b[1;31mDocstring:\u001b[0m Return the absolute value of the argument.\n",
       "\u001b[1;31mType:\u001b[0m      builtin_function_or_method"
      ]
     },
     "metadata": {},
     "output_type": "display_data"
    }
   ],
   "source": [
    "?abs"
   ]
  },
  {
   "cell_type": "code",
   "execution_count": 39,
   "id": "0b2d895a-96e1-41d8-88bf-083e0f1ff758",
   "metadata": {},
   "outputs": [
    {
     "data": {
      "text/plain": [
       "\u001b[1;31mSignature:\u001b[0m \u001b[0mround\u001b[0m\u001b[1;33m(\u001b[0m\u001b[0mnumber\u001b[0m\u001b[1;33m,\u001b[0m \u001b[0mndigits\u001b[0m\u001b[1;33m=\u001b[0m\u001b[1;32mNone\u001b[0m\u001b[1;33m)\u001b[0m\u001b[1;33m\u001b[0m\u001b[1;33m\u001b[0m\u001b[0m\n",
       "\u001b[1;31mDocstring:\u001b[0m\n",
       "Round a number to a given precision in decimal digits.\n",
       "\n",
       "The return value is an integer if ndigits is omitted or None.  Otherwise\n",
       "the return value has the same type as the number.  ndigits may be negative.\n",
       "\u001b[1;31mType:\u001b[0m      builtin_function_or_method"
      ]
     },
     "metadata": {},
     "output_type": "display_data"
    }
   ],
   "source": [
    "?round"
   ]
  },
  {
   "cell_type": "markdown",
   "id": "1d3c0868-0308-40aa-95aa-927bd07aa126",
   "metadata": {},
   "source": [
    "## Задание 2.2"
   ]
  },
  {
   "cell_type": "markdown",
   "id": "78703f99-d8c9-4ded-b687-4d8f9574885e",
   "metadata": {},
   "source": [
    "### Выполнение заданий"
   ]
  },
  {
   "cell_type": "markdown",
   "id": "67d35ec9-583f-46ee-83c0-a07db994e93e",
   "metadata": {},
   "source": [
    "#### 2.2 Встроенные типы объектов, представляющих числа"
   ]
  },
  {
   "cell_type": "code",
   "execution_count": 58,
   "id": "c595714e-a238-4518-a52f-3b4a9dc6df9d",
   "metadata": {},
   "outputs": [],
   "source": [
    "import decimal as dec"
   ]
  },
  {
   "cell_type": "code",
   "execution_count": 68,
   "id": "52faf4e1-83a3-4c82-8606-763d3a1be6ad",
   "metadata": {},
   "outputs": [
    {
     "name": "stdout",
     "output_type": "stream",
     "text": [
      "0.03 0.03\n"
     ]
    }
   ],
   "source": [
    "print(0.1 * 0.3, dec.Decimal('0.1') * dec.Decimal('0.3'))"
   ]
  },
  {
   "cell_type": "code",
   "execution_count": 70,
   "id": "56ece1b8-ca28-405f-90bc-ef99cb751213",
   "metadata": {},
   "outputs": [
    {
     "name": "stdout",
     "output_type": "stream",
     "text": [
      "1.153689732987167 1.153689732987166701690598865\n"
     ]
    }
   ],
   "source": [
    "print(1.1 ** 1.5, dec.Decimal('1.1') ** dec.Decimal('1.5'))"
   ]
  },
  {
   "cell_type": "code",
   "execution_count": 76,
   "id": "deac1bd2-aba5-466a-b52a-763ac2d82e15",
   "metadata": {},
   "outputs": [],
   "source": [
    "import fractions as frac"
   ]
  },
  {
   "cell_type": "code",
   "execution_count": 78,
   "id": "db958725-0c9b-4fb2-940b-88ff4a4cdc73",
   "metadata": {},
   "outputs": [
    {
     "name": "stdout",
     "output_type": "stream",
     "text": [
      "2.5 7/10\n"
     ]
    }
   ],
   "source": [
    "print(0.5 / 0.2,frac.Fraction(2,4) + frac.Fraction(2,10))"
   ]
  },
  {
   "cell_type": "code",
   "execution_count": 80,
   "id": "29eb7b0f-1cf5-4832-998d-fb5fee98d18a",
   "metadata": {},
   "outputs": [
    {
     "name": "stdout",
     "output_type": "stream",
     "text": [
      "0.1125 9/80\n"
     ]
    }
   ],
   "source": [
    "print(0.9 * 0.125,frac.Fraction(9,10) * frac.Fraction(1,8))"
   ]
  },
  {
   "cell_type": "markdown",
   "id": "fc115912-77b5-4aed-9965-1f05c80bd2e8",
   "metadata": {},
   "source": [
    "#### 2.3 Встроенные типы последовательностей: str, list, tuple"
   ]
  },
  {
   "cell_type": "markdown",
   "id": "eadf9865-5600-4d9d-92c0-f9a2f2c38fa1",
   "metadata": {},
   "source": [
    "Нарезание и конкатенация"
   ]
  },
  {
   "cell_type": "code",
   "execution_count": 82,
   "id": "b9ba9481-9f93-49c1-a166-9f055ace2457",
   "metadata": {},
   "outputs": [
    {
     "name": "stdout",
     "output_type": "stream",
     "text": [
      "slam\n"
     ]
    }
   ],
   "source": [
    "s='spam'\n",
    "s=s[:1]+'l'+s[2:]\n",
    "print(s)"
   ]
  },
  {
   "cell_type": "markdown",
   "id": "7ee46da1-d680-447c-9fbb-90f33bae36be",
   "metadata": {},
   "source": [
    "Индексация и конкатенация"
   ]
  },
  {
   "cell_type": "code",
   "execution_count": 86,
   "id": "863799f7-408f-4a12-a6f5-e5df26dfe633",
   "metadata": {},
   "outputs": [
    {
     "name": "stdout",
     "output_type": "stream",
     "text": [
      "slam\n"
     ]
    }
   ],
   "source": [
    "s='spam'\n",
    "s=s[0]+'l'+s[2:]\n",
    "print(s)"
   ]
  },
  {
   "cell_type": "markdown",
   "id": "c852fa8b-1d94-42ba-a10d-4b65fbfb86e5",
   "metadata": {},
   "source": [
    "Строка - неизменяемый объект, поэтому присваивание по индексу работать в данном случае не будет"
   ]
  },
  {
   "cell_type": "markdown",
   "id": "94b382a3-98b9-480e-907a-e8aab47f73c9",
   "metadata": {},
   "source": [
    "Рассмотрим список (list). Поскольку список является изменяемым объектом, мы можем изменить его элемент p с помощью индексации."
   ]
  },
  {
   "cell_type": "code",
   "execution_count": 91,
   "id": "b6fab59c-fcd8-4124-91b3-7bdc56a54ea0",
   "metadata": {},
   "outputs": [
    {
     "name": "stdout",
     "output_type": "stream",
     "text": [
      "['s', 'l', 'a', 'm'] ['s', 'l', 'a', 'm']\n"
     ]
    }
   ],
   "source": [
    "l=list('spam')\n",
    "l[1]='l'\n",
    "print(l,str(l))"
   ]
  },
  {
   "cell_type": "code",
   "execution_count": 93,
   "id": "e51016f5-67ef-414c-af3f-e0952fda9902",
   "metadata": {},
   "outputs": [
    {
     "ename": "TypeError",
     "evalue": "can only concatenate str (not \"list\") to str",
     "output_type": "error",
     "traceback": [
      "\u001b[1;31m---------------------------------------------------------------------------\u001b[0m",
      "\u001b[1;31mTypeError\u001b[0m                                 Traceback (most recent call last)",
      "Cell \u001b[1;32mIn[93], line 2\u001b[0m\n\u001b[0;32m      1\u001b[0m l\u001b[38;5;241m=\u001b[39m\u001b[38;5;28mlist\u001b[39m(\u001b[38;5;124m'\u001b[39m\u001b[38;5;124mspam\u001b[39m\u001b[38;5;124m'\u001b[39m)\n\u001b[1;32m----> 2\u001b[0m l \u001b[38;5;241m=\u001b[39m l[\u001b[38;5;241m0\u001b[39m] \u001b[38;5;241m+\u001b[39m [\u001b[38;5;124m'\u001b[39m\u001b[38;5;124ml\u001b[39m\u001b[38;5;124m'\u001b[39m] \u001b[38;5;241m+\u001b[39m l[\u001b[38;5;241m2\u001b[39m:]  \n\u001b[0;32m      3\u001b[0m \u001b[38;5;28mprint\u001b[39m(l)\n",
      "\u001b[1;31mTypeError\u001b[0m: can only concatenate str (not \"list\") to str"
     ]
    }
   ],
   "source": [
    "l=list('spam')\n",
    "l = l[0] + ['l'] + l[2:]  \n",
    "print(l) \n",
    "# Однако при вызове l[0] возвращается объект типа str. Поскольку строки и списки нельзя складывать напрямую, тут будет ошибка."
   ]
  },
  {
   "cell_type": "code",
   "execution_count": 95,
   "id": "3d8ddbea-bec0-4a44-a623-ded1ff312c27",
   "metadata": {},
   "outputs": [
    {
     "ename": "TypeError",
     "evalue": "'tuple' object does not support item assignment",
     "output_type": "error",
     "traceback": [
      "\u001b[1;31m---------------------------------------------------------------------------\u001b[0m",
      "\u001b[1;31mTypeError\u001b[0m                                 Traceback (most recent call last)",
      "Cell \u001b[1;32mIn[95], line 2\u001b[0m\n\u001b[0;32m      1\u001b[0m t\u001b[38;5;241m=\u001b[39m\u001b[38;5;28mtuple\u001b[39m(\u001b[38;5;124m'\u001b[39m\u001b[38;5;124mspam\u001b[39m\u001b[38;5;124m'\u001b[39m)\n\u001b[1;32m----> 2\u001b[0m t[\u001b[38;5;241m1\u001b[39m]\u001b[38;5;241m=\u001b[39m\u001b[38;5;124m'\u001b[39m\u001b[38;5;124ml\u001b[39m\u001b[38;5;124m'\u001b[39m\n\u001b[0;32m      3\u001b[0m \u001b[38;5;28mprint\u001b[39m(t)\n",
      "\u001b[1;31mTypeError\u001b[0m: 'tuple' object does not support item assignment"
     ]
    }
   ],
   "source": [
    "t=tuple('spam')\n",
    "t[1]='l'\n",
    "print(t)"
   ]
  },
  {
   "cell_type": "markdown",
   "id": "79459e0b-12a7-45e1-874e-929d8de186c7",
   "metadata": {},
   "source": [
    "Поскольку кортеж (tuple) является неизменяемым объектом, мы не можем изменить его элемент p с помощью индексации. Когда мы вызываем l[0], возвращается объект типа str. Однако мы не можем складывать кортежи и списки, поэтому такая запись ошибочна. Вместо этого можно использовать нарезку и конкатенацию, которые работают корректно."
   ]
  },
  {
   "cell_type": "markdown",
   "id": "6c2aa5a8-c040-45a2-be6a-d687cb319fff",
   "metadata": {},
   "source": [
    "#### 2.4 Встроенный тип отображения: dict"
   ]
  },
  {
   "cell_type": "markdown",
   "id": "bc4f644b-ee6b-4b0b-8b9a-dbf7deb1e005",
   "metadata": {},
   "source": [
    "Словарь (dict) представляет собой более осмысленную структуру данных, поскольку доступ к информации в нём осуществляется по ключу. Нам не важно, на какой позиции находится тот или иной элемент; главное — это результат, который мы получаем при обращении к нужным данным. В этом контексте использование списка (list) или кортежа (tuple) будет менее эффективным, так как для доступа к данным необходимо знать индекс, что усложняет поиск и делает получение информации менее удобным."
   ]
  },
  {
   "cell_type": "code",
   "execution_count": 100,
   "id": "86e0731a-cf26-4188-835a-c70c225078f5",
   "metadata": {},
   "outputs": [
    {
     "data": {
      "text/plain": [
       "'Belarus, Minsk'"
      ]
     },
     "execution_count": 100,
     "metadata": {},
     "output_type": "execute_result"
    }
   ],
   "source": [
    "me={'name':'Egor','otchestvo':'Olegovich', 'surname':'Kandidatov', 'adress':'Belarus, Minsk',\n",
    "'age':18,'work':'-','email':'egorkandidatov@gmail.com','phone':7788}\n",
    "me['adress']"
   ]
  },
  {
   "cell_type": "markdown",
   "id": "d9b2694f-f09f-4270-8b61-5cc69b5c19fc",
   "metadata": {},
   "source": [
    "#### 2.5 Встроенный тип множества: set"
   ]
  },
  {
   "cell_type": "code",
   "execution_count": 109,
   "id": "3de4b345-b478-4eee-9bbc-df67dcbc1619",
   "metadata": {},
   "outputs": [
    {
     "name": "stdout",
     "output_type": "stream",
     "text": [
      "seennnntaancee\n",
      "{'c', 'n', 'e', 'a', 's', 't'}\n",
      "cneast\n"
     ]
    }
   ],
   "source": [
    "sentance='seennnntaancee'\n",
    "print(sentance)\n",
    "sentance1=str(set(sentance))\n",
    "print(sentance1)\n",
    "print(''.join(set(sentance)))"
   ]
  },
  {
   "cell_type": "markdown",
   "id": "343d6042-6140-4dcc-95d6-f66d674db82d",
   "metadata": {},
   "source": [
    "#### 2.8. Интерфейс объекта: операции и методы"
   ]
  },
  {
   "cell_type": "code",
   "execution_count": 115,
   "id": "d729b5ff-7b34-421a-ae35-016e5493a2e9",
   "metadata": {},
   "outputs": [
    {
     "name": "stdout",
     "output_type": "stream",
     "text": [
      "3\n",
      "3\n",
      "2\n"
     ]
    }
   ],
   "source": [
    "lst = [1, 2, 3, 2, 4, 2] # список\n",
    "tpl = (1, 2, 3, 2, 4, 2) # кортеж\n",
    "s = \"hello\" # строка\n",
    "print(lst.count(2))\n",
    "print(tpl.count(2))\n",
    "print(s.count('l'))"
   ]
  },
  {
   "cell_type": "code",
   "execution_count": 117,
   "id": "d789558b-8eaa-411e-9ec8-f4b77ea2da3f",
   "metadata": {},
   "outputs": [
    {
     "name": "stdout",
     "output_type": "stream",
     "text": [
      "1\n",
      "1\n",
      "2\n"
     ]
    }
   ],
   "source": [
    "lst = [1, 2, 3, 2, 4, 2]\n",
    "tpl = (1, 2, 3, 2, 4, 2)\n",
    "s = \"hello world\"\n",
    "print(lst.index(2))  \n",
    "print(tpl.index(2)) \n",
    "print(s.index('l'))"
   ]
  },
  {
   "cell_type": "code",
   "execution_count": 119,
   "id": "6e13ffbf-ff01-471f-9554-efc3a2b56e87",
   "metadata": {},
   "outputs": [
    {
     "data": {
      "text/plain": [
       "'HELLO52'"
      ]
     },
     "execution_count": 119,
     "metadata": {},
     "output_type": "execute_result"
    }
   ],
   "source": [
    "s='hello52'\n",
    "s=s.upper()\n",
    "s"
   ]
  },
  {
   "cell_type": "code",
   "execution_count": 134,
   "id": "787a59b6-c97d-425b-87be-176368d0d23b",
   "metadata": {},
   "outputs": [
    {
     "data": {
      "text/plain": [
       "'H///^///^///^///^///^///^///^///////^///^///^///^///^///^///^///E///^///^///^///^///^///^///^///////^///^///^///^///^///^///^///L///^///^///^///^///^///^///^///////^///^///^///^///^///^///^///L///^///^///^///^///^///^///^///////^///^///^///^///^///^///^///O///^///^///^///^///^///^///^///////^///^///^///^///^///^///^///5///^///^///^///^///^///^///^///////^///^///^///^///^///^///^///2'"
      ]
     },
     "execution_count": 134,
     "metadata": {},
     "output_type": "execute_result"
    }
   ],
   "source": [
    "s='*'.join(s)\n",
    "s=s.replace('*','/')\n",
    "s"
   ]
  },
  {
   "cell_type": "markdown",
   "id": "c3e982d5-80c3-4cce-b98e-b20cb4e7b4a5",
   "metadata": {},
   "source": [
    "Строковый метод replace(sub1, sub2) заменяет одну подстроку sub1 на другую подстроку sub2"
   ]
  },
  {
   "cell_type": "code",
   "execution_count": 137,
   "id": "160d139e-9bc5-4fe0-85e4-469f3574690c",
   "metadata": {},
   "outputs": [
    {
     "data": {
      "text/plain": [
       "['H',\n",
       " '',\n",
       " '',\n",
       " 'tuesday',\n",
       " '^',\n",
       " '',\n",
       " '',\n",
       " '^',\n",
       " '',\n",
       " '',\n",
       " '^',\n",
       " '',\n",
       " '',\n",
       " '^',\n",
       " '',\n",
       " '',\n",
       " '^',\n",
       " '',\n",
       " '',\n",
       " '^',\n",
       " '',\n",
       " '',\n",
       " '^',\n",
       " '',\n",
       " '',\n",
       " '',\n",
       " '',\n",
       " '',\n",
       " '',\n",
       " '^',\n",
       " '',\n",
       " '',\n",
       " '^',\n",
       " '',\n",
       " '',\n",
       " '^',\n",
       " '',\n",
       " '',\n",
       " '^',\n",
       " '',\n",
       " '',\n",
       " '^',\n",
       " '',\n",
       " '',\n",
       " '^',\n",
       " '',\n",
       " '',\n",
       " '^',\n",
       " '',\n",
       " '',\n",
       " 'E',\n",
       " '',\n",
       " '',\n",
       " '^',\n",
       " '',\n",
       " '',\n",
       " '^',\n",
       " '',\n",
       " '',\n",
       " '^',\n",
       " '',\n",
       " '',\n",
       " '^',\n",
       " '',\n",
       " '',\n",
       " '^',\n",
       " '',\n",
       " '',\n",
       " '^',\n",
       " '',\n",
       " '',\n",
       " '^',\n",
       " '',\n",
       " '',\n",
       " '',\n",
       " '',\n",
       " '',\n",
       " '',\n",
       " '^',\n",
       " '',\n",
       " '',\n",
       " '^',\n",
       " '',\n",
       " '',\n",
       " '^',\n",
       " '',\n",
       " '',\n",
       " '^',\n",
       " '',\n",
       " '',\n",
       " '^',\n",
       " '',\n",
       " '',\n",
       " '^',\n",
       " '',\n",
       " '',\n",
       " '^',\n",
       " '',\n",
       " '',\n",
       " 'L',\n",
       " '',\n",
       " '',\n",
       " '^',\n",
       " '',\n",
       " '',\n",
       " '^',\n",
       " '',\n",
       " '',\n",
       " '^',\n",
       " '',\n",
       " '',\n",
       " '^',\n",
       " '',\n",
       " '',\n",
       " '^',\n",
       " '',\n",
       " '',\n",
       " '^',\n",
       " '',\n",
       " '',\n",
       " '^',\n",
       " '',\n",
       " '',\n",
       " '',\n",
       " '',\n",
       " '',\n",
       " '',\n",
       " '^',\n",
       " '',\n",
       " '',\n",
       " '^',\n",
       " '',\n",
       " '',\n",
       " '^',\n",
       " '',\n",
       " '',\n",
       " '^',\n",
       " '',\n",
       " '',\n",
       " '^',\n",
       " '',\n",
       " '',\n",
       " '^',\n",
       " '',\n",
       " '',\n",
       " '^',\n",
       " '',\n",
       " '',\n",
       " 'L',\n",
       " '',\n",
       " '',\n",
       " '^',\n",
       " '',\n",
       " '',\n",
       " '^',\n",
       " '',\n",
       " '',\n",
       " '^',\n",
       " '',\n",
       " '',\n",
       " '^',\n",
       " '',\n",
       " '',\n",
       " '^',\n",
       " '',\n",
       " '',\n",
       " '^',\n",
       " '',\n",
       " '',\n",
       " '^',\n",
       " '',\n",
       " '',\n",
       " '',\n",
       " '',\n",
       " '',\n",
       " '',\n",
       " '^',\n",
       " '',\n",
       " '',\n",
       " '^',\n",
       " '',\n",
       " '',\n",
       " '^',\n",
       " '',\n",
       " '',\n",
       " '^',\n",
       " '',\n",
       " '',\n",
       " '^',\n",
       " '',\n",
       " '',\n",
       " '^',\n",
       " '',\n",
       " '',\n",
       " '^',\n",
       " '',\n",
       " '',\n",
       " 'O',\n",
       " '',\n",
       " '',\n",
       " '^',\n",
       " '',\n",
       " '',\n",
       " '^',\n",
       " '',\n",
       " '',\n",
       " '^',\n",
       " '',\n",
       " '',\n",
       " '^',\n",
       " '',\n",
       " '',\n",
       " '^',\n",
       " '',\n",
       " '',\n",
       " '^',\n",
       " '',\n",
       " '',\n",
       " '^',\n",
       " '',\n",
       " '',\n",
       " '',\n",
       " '',\n",
       " '',\n",
       " '',\n",
       " '^',\n",
       " '',\n",
       " '',\n",
       " '^',\n",
       " '',\n",
       " '',\n",
       " '^',\n",
       " '',\n",
       " '',\n",
       " '^',\n",
       " '',\n",
       " '',\n",
       " '^',\n",
       " '',\n",
       " '',\n",
       " '^',\n",
       " '',\n",
       " '',\n",
       " '^',\n",
       " '',\n",
       " '',\n",
       " '5',\n",
       " '',\n",
       " '',\n",
       " '^',\n",
       " '',\n",
       " '',\n",
       " '^',\n",
       " '',\n",
       " '',\n",
       " '^',\n",
       " '',\n",
       " '',\n",
       " '^',\n",
       " '',\n",
       " '',\n",
       " '^',\n",
       " '',\n",
       " '',\n",
       " '^',\n",
       " '',\n",
       " '',\n",
       " '^',\n",
       " '',\n",
       " '',\n",
       " '',\n",
       " '',\n",
       " '',\n",
       " '',\n",
       " '^',\n",
       " '',\n",
       " '',\n",
       " '^',\n",
       " '',\n",
       " '',\n",
       " '^',\n",
       " '',\n",
       " '',\n",
       " '^',\n",
       " '',\n",
       " '',\n",
       " '^',\n",
       " '',\n",
       " '',\n",
       " '^',\n",
       " '',\n",
       " '',\n",
       " '^',\n",
       " '',\n",
       " '',\n",
       " '2',\n",
       " 'tuesday',\n",
       " 1,\n",
       " 2,\n",
       " 3]"
      ]
     },
     "execution_count": 137,
     "metadata": {},
     "output_type": "execute_result"
    }
   ],
   "source": [
    "l=s.split('/')\n",
    "l.append('tuesday');l.insert(3,'tuesday');l.extend((1,2,3))\n",
    "l"
   ]
  },
  {
   "cell_type": "markdown",
   "id": "46d1c290-7743-49fb-b6eb-29c10b2ed69f",
   "metadata": {},
   "source": [
    "В примере рассмотрены три способа добавления элементов в список:\n",
    "append(el) — добавляет элемент el в конец списка.\n",
    "extend(els) — добавляет несколько элементов из коллекции els в конец списка.\n",
    "insert(pos, el) — вставляет элемент el на указанную позицию pos.\n",
    "\n",
    "Ключ (key) — это функция, которая применяется к каждому элементу списка перед выполнением сортировки. Вместо сравнения исходных элементов, сортировка происходит на основе значений, полученных после применения функции key."
   ]
  },
  {
   "cell_type": "code",
   "execution_count": 150,
   "id": "5a5eeae3-7250-4dc4-9a0e-01641cb6cf18",
   "metadata": {},
   "outputs": [
    {
     "data": {
      "text/plain": [
       "['i', '!', 'love', 'mehmat']"
      ]
     },
     "execution_count": 150,
     "metadata": {},
     "output_type": "execute_result"
    }
   ],
   "source": [
    "s = [\"i\", \"love\", \"mehmat\", \"!\"]\n",
    "s.sort(key=len)\n",
    "s"
   ]
  },
  {
   "cell_type": "markdown",
   "id": "2f7cf698-7d53-409e-a991-30832a74ef1f",
   "metadata": {},
   "source": [
    "sort изменяет изначальный список и не возвращает новое значение."
   ]
  },
  {
   "cell_type": "code",
   "execution_count": 161,
   "id": "66af993f-f233-401f-be42-f0e0cf756deb",
   "metadata": {},
   "outputs": [
    {
     "name": "stdout",
     "output_type": "stream",
     "text": [
      "{0: 'value',\n",
      " 1: 'value',\n",
      " 2: 'value',\n",
      " 3: 'value',\n",
      " 4: 'value',\n",
      " 5: 'value',\n",
      " 6: 'value',\n",
      " 7: 'value',\n",
      " 8: 'value',\n",
      " 9: 'value',\n",
      " 10: 'value',\n",
      " 11: 'value',\n",
      " 12: 'value',\n",
      " 13: 'value',\n",
      " 14: 'value',\n",
      " 15: 'value',\n",
      " 16: 'value',\n",
      " 17: 'value',\n",
      " 18: 'value',\n",
      " 19: 'value',\n",
      " 20: 'value',\n",
      " 21: 'value',\n",
      " 22: 'value',\n",
      " 23: 'value',\n",
      " 24: 'value',\n",
      " 25: 'value',\n",
      " 26: 'value',\n",
      " 27: 'value',\n",
      " 28: 'value',\n",
      " 29: 'value',\n",
      " 30: 'value',\n",
      " 31: 'value',\n",
      " 32: 'value',\n",
      " 33: 'value',\n",
      " 34: 'value',\n",
      " 35: 'value',\n",
      " 36: 'value',\n",
      " 37: 'value',\n",
      " 38: 'value',\n",
      " 39: 'value',\n",
      " 40: 'value',\n",
      " 41: 'value',\n",
      " 42: 'value',\n",
      " 43: 'value',\n",
      " 44: 'value',\n",
      " 45: 'value',\n",
      " 46: 'value',\n",
      " 47: 'value',\n",
      " 48: 'value',\n",
      " 49: 'value',\n",
      " 50: 'value',\n",
      " 51: 'value',\n",
      " 52: 'value',\n",
      " 53: 'value',\n",
      " 54: 'value',\n",
      " 55: 'value',\n",
      " 56: 'value',\n",
      " 57: 'value',\n",
      " 58: 'value',\n",
      " 59: 'value',\n",
      " 60: 'value',\n",
      " 61: 'value',\n",
      " 62: 'value',\n",
      " 63: 'value',\n",
      " 64: 'value',\n",
      " 65: 'value',\n",
      " 66: 'value',\n",
      " 67: 'value',\n",
      " 68: 'value',\n",
      " 69: 'value',\n",
      " 70: 'value',\n",
      " 71: 'value',\n",
      " 72: 'value',\n",
      " 73: 'value',\n",
      " 74: 'value',\n",
      " 75: 'value',\n",
      " 76: 'value',\n",
      " 77: 'value',\n",
      " 78: 'value',\n",
      " 79: 'value',\n",
      " 80: 'value',\n",
      " 81: 'value',\n",
      " 82: 'value',\n",
      " 83: 'value',\n",
      " 84: 'value',\n",
      " 85: 'value',\n",
      " 86: 'value',\n",
      " 87: 'value',\n",
      " 88: 'value',\n",
      " 89: 'value',\n",
      " 90: 'value',\n",
      " 91: 'value',\n",
      " 92: 'value',\n",
      " 93: 'value',\n",
      " 94: 'value',\n",
      " 95: 'value',\n",
      " 96: 'value',\n",
      " 97: 'value',\n",
      " 98: 'value',\n",
      " 99: 'value',\n",
      " 100: 'value'}\n"
     ]
    }
   ],
   "source": [
    "from pprint import pprint\n",
    "d = {i: \"value\" for i in range(101)}\n",
    "pprint(d)"
   ]
  },
  {
   "cell_type": "markdown",
   "id": "201ffdc0-ee9b-4ba7-acf5-f2f65611b9c1",
   "metadata": {},
   "source": [
    "#### 2.9 Переменная"
   ]
  },
  {
   "cell_type": "code",
   "execution_count": 165,
   "id": "5bc74d27-94be-4c1b-b449-fef028d1e5ba",
   "metadata": {},
   "outputs": [
    {
     "data": {
      "text/plain": [
       "[0, 1, 2, 3, [...]]"
      ]
     },
     "execution_count": 165,
     "metadata": {},
     "output_type": "execute_result"
    }
   ],
   "source": [
    "a=[i for i in range(4)] # объект содержит ссылку на самого себя\n",
    "a.append(a)\n",
    "a "
   ]
  },
  {
   "cell_type": "markdown",
   "id": "20f1dd7f-4a89-44b7-93db-0f503ed0e542",
   "metadata": {},
   "source": [
    "set не может содержать дубликаты, поэтому повторное добавление тех же элементов ничего не меняет"
   ]
  },
  {
   "cell_type": "code",
   "execution_count": 171,
   "id": "f9409b98-97b6-4b33-b025-0fbcc3e02a85",
   "metadata": {},
   "outputs": [
    {
     "data": {
      "text/plain": [
       "{'e', 'h', 'l', 'o'}"
      ]
     },
     "execution_count": 171,
     "metadata": {},
     "output_type": "execute_result"
    }
   ],
   "source": [
    "a=set('hello')\n",
    "a.update(a)\n",
    "a"
   ]
  },
  {
   "cell_type": "code",
   "execution_count": 174,
   "id": "0df9308d-870e-4187-99e6-869ecd0fe5a7",
   "metadata": {},
   "outputs": [
    {
     "data": {
      "text/plain": [
       "{'one': 1, 'two': 2, 'three': {...}}"
      ]
     },
     "execution_count": 174,
     "metadata": {},
     "output_type": "execute_result"
    }
   ],
   "source": [
    "a={'one':1,'two':2}\n",
    "a['three']=a;a"
   ]
  },
  {
   "cell_type": "code",
   "execution_count": 176,
   "id": "67e2f3fa-4dd3-45e2-a25f-e0024bac7d9f",
   "metadata": {},
   "outputs": [
    {
     "data": {
      "text/plain": [
       "([0, 1, 2, 3, (...)],)"
      ]
     },
     "execution_count": 176,
     "metadata": {},
     "output_type": "execute_result"
    }
   ],
   "source": [
    "a=[i for i in range(4)],\n",
    "a[0].append(a)\n",
    "a"
   ]
  },
  {
   "cell_type": "code",
   "execution_count": 182,
   "id": "b2e48505-0691-4d46-9624-61bd2e1508ef",
   "metadata": {},
   "outputs": [],
   "source": [
    "a=b=c=d='value'"
   ]
  },
  {
   "cell_type": "code",
   "execution_count": 184,
   "id": "6fdd1e5d-b2d6-476c-8f2c-5e67c5d14434",
   "metadata": {},
   "outputs": [
    {
     "data": {
      "text/plain": [
       "4294967295"
      ]
     },
     "execution_count": 184,
     "metadata": {},
     "output_type": "execute_result"
    }
   ],
   "source": [
    "import sys\n",
    "sys.getrefcount(a)"
   ]
  },
  {
   "cell_type": "markdown",
   "id": "ec9debb6-d5d2-4bb3-860d-8196daaf4a64",
   "metadata": {},
   "source": [
    "Почему так много ссылок на объект..."
   ]
  },
  {
   "cell_type": "markdown",
   "id": "9a9099a0-3390-4cee-a680-fe34a21e1f0a",
   "metadata": {},
   "source": [
    "Копирование последовательностей возможно посредством операции среза по всем элементам [:]"
   ]
  },
  {
   "cell_type": "code",
   "execution_count": 188,
   "id": "39523514-3705-41ab-af1f-c3cb3221d64e",
   "metadata": {},
   "outputs": [
    {
     "data": {
      "text/plain": [
       "([1, 2, 3], [1, 2, 3])"
      ]
     },
     "execution_count": 188,
     "metadata": {},
     "output_type": "execute_result"
    }
   ],
   "source": [
    "tab=[1,2,3]\n",
    "new1=tab[:]\n",
    "new1,tab"
   ]
  },
  {
   "cell_type": "code",
   "execution_count": 192,
   "id": "2e0ccb7d-88bf-4d65-ae2b-990fe28a3f12",
   "metadata": {},
   "outputs": [
    {
     "data": {
      "text/plain": [
       "([1, 2, 3], [1, 2, 3])"
      ]
     },
     "execution_count": 192,
     "metadata": {},
     "output_type": "execute_result"
    }
   ],
   "source": [
    "new2=tab.copy() # так тоже можно с изменяемыми объектами\n",
    "new2,tab"
   ]
  },
  {
   "cell_type": "code",
   "execution_count": 194,
   "id": "2c7cdd97-6dcb-45fd-a9aa-c3e97026ebca",
   "metadata": {},
   "outputs": [
    {
     "data": {
      "text/plain": [
       "([1, 2, 3], [1, 2, 3])"
      ]
     },
     "execution_count": 194,
     "metadata": {},
     "output_type": "execute_result"
    }
   ],
   "source": [
    "new3=tab.__class__(tab)\n",
    "new3,tab"
   ]
  },
  {
   "cell_type": "markdown",
   "id": "e5252b1d-a628-4f52-a132-06808908bad9",
   "metadata": {},
   "source": [
    "#### 2.10 Выражение спискового включения"
   ]
  },
  {
   "cell_type": "code",
   "execution_count": 202,
   "id": "839efff5-70ae-497a-a0ca-1b2ff5919c5c",
   "metadata": {},
   "outputs": [
    {
     "data": {
      "text/plain": [
       "{'g', 'i', 'n', 'r', 't'}"
      ]
     },
     "execution_count": 202,
     "metadata": {},
     "output_type": "execute_result"
    }
   ],
   "source": [
    "{b for b in 'strings' if b!='s'}"
   ]
  },
  {
   "cell_type": "code",
   "execution_count": 204,
   "id": "49e111d9-52a7-4da3-af28-d1d30e3f9d10",
   "metadata": {},
   "outputs": [
    {
     "data": {
      "text/plain": [
       "[['a00', 'a01', 'a02', 'a03', 'a04', 'a05', 'a06', 'a07', 'a08'],\n",
       " ['a10', 'a11', 'a12', 'a13', 'a14', 'a15', 'a16', 'a17', 'a18'],\n",
       " ['a20', 'a21', 'a22', 'a23', 'a24', 'a25', 'a26', 'a27', 'a28'],\n",
       " ['a30', 'a31', 'a32', 'a33', 'a34', 'a35', 'a36', 'a37', 'a38'],\n",
       " ['a40', 'a41', 'a42', 'a43', 'a44', 'a45', 'a46', 'a47', 'a48'],\n",
       " ['a50', 'a51', 'a52', 'a53', 'a54', 'a55', 'a56', 'a57', 'a58'],\n",
       " ['a60', 'a61', 'a62', 'a63', 'a64', 'a65', 'a66', 'a67', 'a68'],\n",
       " ['a70', 'a71', 'a72', 'a73', 'a74', 'a75', 'a76', 'a77', 'a78']]"
      ]
     },
     "execution_count": 204,
     "metadata": {},
     "output_type": "execute_result"
    }
   ],
   "source": [
    "[[f'a{i}{j}' for j in range(9)] for i in range(8)] # с помощью списка"
   ]
  },
  {
   "cell_type": "code",
   "execution_count": 208,
   "id": "8a6645f4-2deb-42f4-93f0-3f7721a9b3cb",
   "metadata": {},
   "outputs": [
    {
     "data": {
      "text/plain": [
       "[['a00', 'a01', 'a02', 'a03', 'a04', 'a05', 'a06', 'a07', 'a08'],\n",
       " ['a10', 'a11', 'a12', 'a13', 'a14', 'a15', 'a16', 'a17', 'a18'],\n",
       " ['a20', 'a21', 'a22', 'a23', 'a24', 'a25', 'a26', 'a27', 'a28'],\n",
       " ['a30', 'a31', 'a32', 'a33', 'a34', 'a35', 'a36', 'a37', 'a38'],\n",
       " ['a40', 'a41', 'a42', 'a43', 'a44', 'a45', 'a46', 'a47', 'a48'],\n",
       " ['a50', 'a51', 'a52', 'a53', 'a54', 'a55', 'a56', 'a57', 'a58'],\n",
       " ['a60', 'a61', 'a62', 'a63', 'a64', 'a65', 'a66', 'a67', 'a68'],\n",
       " ['a70', 'a71', 'a72', 'a73', 'a74', 'a75', 'a76', 'a77', 'a78']]"
      ]
     },
     "execution_count": 208,
     "metadata": {},
     "output_type": "execute_result"
    }
   ],
   "source": [
    "import numpy as np\n",
    "[[f'a{i}{j}' for j in np.arange(9)] for i in np.arange(8)] # с помощью numpy массива ndarray"
   ]
  },
  {
   "cell_type": "code",
   "execution_count": 210,
   "id": "929060bb-477f-4b0f-84ae-287da67fe2fa",
   "metadata": {},
   "outputs": [
    {
     "data": {
      "text/plain": [
       "{'one': ['1', '2', '3'], 'two': ['1', '2', '3'], 'three': ['1', '2', '3']}"
      ]
     },
     "execution_count": 210,
     "metadata": {},
     "output_type": "execute_result"
    }
   ],
   "source": [
    "{i: [x for x in '123'] for i in ['one', 'two', 'three']} #Создание словаря, где каждому ключу ('one', 'two', 'three') соответствует список ['1', '2', '3']"
   ]
  },
  {
   "cell_type": "code",
   "execution_count": 212,
   "id": "1690fcba-c8a5-4c2c-8583-0b52a882e656",
   "metadata": {},
   "outputs": [
    {
     "data": {
      "text/plain": [
       "{1: {1: 1, 2: 2, 3: 3}, 2: {1: 2, 2: 4, 3: 6}, 3: {1: 3, 2: 6, 3: 9}}"
      ]
     },
     "execution_count": 212,
     "metadata": {},
     "output_type": "execute_result"
    }
   ],
   "source": [
    "{i: {j: i * j for j in range(1, 4)} for i in range(1, 4)} # Код создаёт вложенный словарь, где:Значения внешнего словаря — вложенные словари, где:Ключи — числа от 1 до 3.Значения — произведения ключей внешнего и внутреннего словарей"
   ]
  },
  {
   "cell_type": "markdown",
   "id": "8ae0782c-9e34-44e6-a841-271c91f8e6d6",
   "metadata": {},
   "source": [
    "#### 2.11 Форматированный вывод строк"
   ]
  },
  {
   "cell_type": "markdown",
   "id": "693c396e-4e67-481d-a038-b2ec46ff8cd8",
   "metadata": {},
   "source": [
    "Пример с f-строкой:"
   ]
  },
  {
   "cell_type": "code",
   "execution_count": 217,
   "id": "b9024175-e1d2-46dd-b49e-034a21fddfbb",
   "metadata": {},
   "outputs": [
    {
     "name": "stdout",
     "output_type": "stream",
     "text": [
      "variable=00042\n"
     ]
    }
   ],
   "source": [
    "variable = 42\n",
    "print(f'{variable=:05d}')"
   ]
  },
  {
   "cell_type": "markdown",
   "id": "cdf2349d-ef60-4fa5-97d6-f0734e08bb49",
   "metadata": {},
   "source": [
    "С использованием %:"
   ]
  },
  {
   "cell_type": "code",
   "execution_count": 219,
   "id": "1e9d8c6a-0f86-403e-98b7-f0f84d1a5318",
   "metadata": {},
   "outputs": [
    {
     "name": "stdout",
     "output_type": "stream",
     "text": [
      "variable=00042\n"
     ]
    }
   ],
   "source": [
    "print('variable=%05d' % variable)"
   ]
  },
  {
   "cell_type": "markdown",
   "id": "aff5f896-aff1-46a0-bc2c-8b0bf3cc9062",
   "metadata": {},
   "source": [
    "С использованием format:"
   ]
  },
  {
   "cell_type": "code",
   "execution_count": 221,
   "id": "ad1127d5-4ff7-409c-bc88-bda270c91822",
   "metadata": {},
   "outputs": [
    {
     "name": "stdout",
     "output_type": "stream",
     "text": [
      "variable=00042\n"
     ]
    }
   ],
   "source": [
    "print('variable={:05d}'.format(variable))"
   ]
  },
  {
   "cell_type": "markdown",
   "id": "e058b39b-2070-4e43-a409-3342b056e4b3",
   "metadata": {},
   "source": [
    "Форматированный вывод с использованием f’…{expression=:…}’"
   ]
  },
  {
   "cell_type": "code",
   "execution_count": 226,
   "id": "15275ccc-a616-409d-86b2-d85dbf4732ef",
   "metadata": {},
   "outputs": [
    {
     "name": "stdout",
     "output_type": "stream",
     "text": [
      "x + y=00008\n"
     ]
    }
   ],
   "source": [
    "x, y = 5, 3\n",
    "print(f'{x + y=:05d}')"
   ]
  },
  {
   "cell_type": "code",
   "execution_count": 227,
   "id": "342542be-be3b-403e-9f9b-15fe5b0f4525",
   "metadata": {},
   "outputs": [
    {
     "name": "stdout",
     "output_type": "stream",
     "text": [
      "x + y=00008\n"
     ]
    }
   ],
   "source": [
    "print('x + y=%05d' % (x + y)) "
   ]
  },
  {
   "cell_type": "code",
   "execution_count": 228,
   "id": "116de3a1-1915-417f-8f0d-185d607b8daa",
   "metadata": {},
   "outputs": [
    {
     "name": "stdout",
     "output_type": "stream",
     "text": [
      "x + y=00008\n"
     ]
    }
   ],
   "source": [
    "print('x + y={:05d}'.format(x + y))"
   ]
  },
  {
   "cell_type": "markdown",
   "id": "4d3bb609-c103-49c5-859f-ff02c5eda249",
   "metadata": {},
   "source": [
    "Все три способа дают одинаковый результат, но f-строки проще и удобнее."
   ]
  },
  {
   "cell_type": "markdown",
   "id": "aabb35bf-b7ce-4563-a5e8-ad0757c5b31b",
   "metadata": {},
   "source": [
    "#### 2.12 Файловый объект"
   ]
  },
  {
   "cell_type": "code",
   "execution_count": 233,
   "id": "7cd768ed-4ba9-4632-9074-8ce79734b983",
   "metadata": {},
   "outputs": [
    {
     "name": "stdout",
     "output_type": "stream",
     "text": [
      "Two roads diverged in a yellow wood,\n",
      "And sorry I could not travel both\n",
      "And be one traveler, long I stood\n",
      "And looked down one as far as I could\n",
      "To where it bent in the undergrowth.\n"
     ]
    }
   ],
   "source": [
    "file = open('text.txt')\n",
    "print(file.read())\n",
    "file.close() "
   ]
  },
  {
   "cell_type": "code",
   "execution_count": 239,
   "id": "1db90a78-ba10-49ee-9a29-5a10e3d58496",
   "metadata": {},
   "outputs": [
    {
     "name": "stdout",
     "output_type": "stream",
     "text": [
      "Two roads diverged\n"
     ]
    }
   ],
   "source": [
    "file = open('text.txt')\n",
    "print(file.read(18))\n",
    "file.close()"
   ]
  },
  {
   "cell_type": "code",
   "execution_count": 241,
   "id": "0436f0b0-5b63-4d06-919b-879da0950989",
   "metadata": {},
   "outputs": [
    {
     "name": "stdout",
     "output_type": "stream",
     "text": [
      "Two roads diverged in a yellow wood,\n",
      "\n"
     ]
    }
   ],
   "source": [
    "file = open('text.txt')\n",
    "print(file.readline())\n",
    "file.close()"
   ]
  },
  {
   "cell_type": "code",
   "execution_count": 243,
   "id": "a3b015b0-bd26-4c1a-bd31-66545c07e477",
   "metadata": {},
   "outputs": [
    {
     "name": "stdout",
     "output_type": "stream",
     "text": [
      "['Two roads diverged in a yellow wood,\\n', 'And sorry I could not travel both\\n', 'And be one traveler, long I stood\\n', 'And looked down one as far as I could\\n', 'To where it bent in the undergrowth.']\n"
     ]
    }
   ],
   "source": [
    "file = open('text.txt')\n",
    "print(file.readlines())\n",
    "file.close()"
   ]
  },
  {
   "cell_type": "code",
   "execution_count": 249,
   "id": "87ad7e5e-38c3-4a67-81e0-0ae83a90d51c",
   "metadata": {},
   "outputs": [
    {
     "name": "stdout",
     "output_type": "stream",
     "text": [
      "Two roads diverged in a yellow wood,\n",
      "And sorry I could not travel both\n",
      "And be one traveler, long I stood\n",
      "And looked down one as far as I could\n",
      "To where it bent in the undergrowth. in Minsk\n",
      " Bye\n",
      "Bye\n",
      "\n"
     ]
    }
   ],
   "source": [
    "file = open('text.txt','a')\n",
    "file.write('Bye' + '\\n')\n",
    "file.close()\n",
    "file = open('text.txt')\n",
    "print(file.read())\n",
    "file.close()"
   ]
  },
  {
   "cell_type": "code",
   "execution_count": 251,
   "id": "0853f4de-117f-4a10-9805-69f60baf5d6b",
   "metadata": {},
   "outputs": [
    {
     "name": "stdout",
     "output_type": "stream",
     "text": [
      "Two roads diverged in a yellow wood,\n",
      "And sorry I could not travel both\n",
      "And be one traveler, long I stood\n",
      "And looked down one as far as I could\n",
      "To where it bent in the undergrowth. in Minsk\n",
      " Bye\n",
      "Bye\n",
      " sometimes\n",
      "\n"
     ]
    }
   ],
   "source": [
    "file = open('text.txt','a') \n",
    "file.writelines([' sometimes\\n'])\n",
    "file.close()\n",
    "file = open('text.txt','r')\n",
    "print(file.read())\n",
    "file.close()"
   ]
  },
  {
   "cell_type": "code",
   "execution_count": 253,
   "id": "9cda8149-ab2f-436d-9680-13b9f0c0f9cb",
   "metadata": {},
   "outputs": [
    {
     "name": "stdout",
     "output_type": "stream",
     "text": [
      "Two roads diverged in a yellow wood,\n",
      "And sorry I could not travel both\n",
      "And be one traveler, long I stood\n",
      "And looked down one as far as I could\n",
      "To where it bent in the undergrowth. in Minsk\n",
      " Bye\n",
      "Bye\n",
      " sometimes\n"
     ]
    }
   ],
   "source": [
    "with open('text.txt') as file:\n",
    "    for line in file:\n",
    "        print(line, end=\"\")"
   ]
  },
  {
   "cell_type": "markdown",
   "id": "9df9b63f-8cdc-4a07-8d9e-fd33b428263a",
   "metadata": {},
   "source": [
    "## Задание 2.3"
   ]
  },
  {
   "cell_type": "markdown",
   "id": "8c1df1be-d281-42ad-a5c0-a9c33c94e2c3",
   "metadata": {},
   "source": [
    "#### Исправление ошибок"
   ]
  },
  {
   "cell_type": "code",
   "execution_count": 262,
   "id": "3a9ebec0-bb40-4995-9f75-f173a5bd6be4",
   "metadata": {},
   "outputs": [
    {
     "ename": "TypeError",
     "evalue": "can only concatenate str (not \"list\") to str",
     "output_type": "error",
     "traceback": [
      "\u001b[1;31m---------------------------------------------------------------------------\u001b[0m",
      "\u001b[1;31mTypeError\u001b[0m                                 Traceback (most recent call last)",
      "Cell \u001b[1;32mIn[262], line 2\u001b[0m\n\u001b[0;32m      1\u001b[0m l\u001b[38;5;241m=\u001b[39m\u001b[38;5;28mlist\u001b[39m(\u001b[38;5;124m'\u001b[39m\u001b[38;5;124mspam\u001b[39m\u001b[38;5;124m'\u001b[39m)\n\u001b[1;32m----> 2\u001b[0m l \u001b[38;5;241m=\u001b[39m l[\u001b[38;5;241m0\u001b[39m] \u001b[38;5;241m+\u001b[39m [\u001b[38;5;124m'\u001b[39m\u001b[38;5;124ml\u001b[39m\u001b[38;5;124m'\u001b[39m] \u001b[38;5;241m+\u001b[39m l[\u001b[38;5;241m2\u001b[39m:]  \n\u001b[0;32m      3\u001b[0m \u001b[38;5;28mprint\u001b[39m(l)\n",
      "\u001b[1;31mTypeError\u001b[0m: can only concatenate str (not \"list\") to str"
     ]
    }
   ],
   "source": [
    "l=list('spam')\n",
    "l = l[0] + ['l'] + l[2:]  \n",
    "print(l) "
   ]
  },
  {
   "cell_type": "markdown",
   "id": "5c915809-007d-46ad-a533-cb047686f035",
   "metadata": {},
   "source": [
    "При вызове l[0] возвращается объект типа str. Поскольку строки и списки нельзя складывать напрямую, тут будет ошибка."
   ]
  },
  {
   "cell_type": "code",
   "execution_count": 259,
   "id": "3455b048-6c10-4685-8444-e7f648f93321",
   "metadata": {},
   "outputs": [
    {
     "ename": "TypeError",
     "evalue": "'tuple' object does not support item assignment",
     "output_type": "error",
     "traceback": [
      "\u001b[1;31m---------------------------------------------------------------------------\u001b[0m",
      "\u001b[1;31mTypeError\u001b[0m                                 Traceback (most recent call last)",
      "Cell \u001b[1;32mIn[259], line 2\u001b[0m\n\u001b[0;32m      1\u001b[0m t\u001b[38;5;241m=\u001b[39m\u001b[38;5;28mtuple\u001b[39m(\u001b[38;5;124m'\u001b[39m\u001b[38;5;124mspam\u001b[39m\u001b[38;5;124m'\u001b[39m)\n\u001b[1;32m----> 2\u001b[0m t[\u001b[38;5;241m1\u001b[39m]\u001b[38;5;241m=\u001b[39m\u001b[38;5;124m'\u001b[39m\u001b[38;5;124ml\u001b[39m\u001b[38;5;124m'\u001b[39m\n\u001b[0;32m      3\u001b[0m \u001b[38;5;28mprint\u001b[39m(t)\n",
      "\u001b[1;31mTypeError\u001b[0m: 'tuple' object does not support item assignment"
     ]
    }
   ],
   "source": [
    "t=tuple('spam')\n",
    "t[1]='l'\n",
    "print(t)"
   ]
  },
  {
   "cell_type": "markdown",
   "id": "016d5532-8498-4b87-8a43-e88d6e43d629",
   "metadata": {},
   "source": [
    "Поскольку кортеж (tuple) является неизменяемым объектом, мы не можем изменить его элемент p с помощью индексации. Когда мы вызываем l[0], возвращается объект типа str. Однако мы не можем складывать кортежи и списки, поэтому такая запись ошибочна. Вместо этого можно использовать нарезку и конкатенацию, которые работают корректно."
   ]
  }
 ],
 "metadata": {
  "kernelspec": {
   "display_name": "Python [conda env:base] *",
   "language": "python",
   "name": "conda-base-py"
  },
  "language_info": {
   "codemirror_mode": {
    "name": "ipython",
    "version": 3
   },
   "file_extension": ".py",
   "mimetype": "text/x-python",
   "name": "python",
   "nbconvert_exporter": "python",
   "pygments_lexer": "ipython3",
   "version": "3.12.7"
  }
 },
 "nbformat": 4,
 "nbformat_minor": 5
}
