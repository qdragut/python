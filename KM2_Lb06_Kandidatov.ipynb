{
 "cells": [
  {
   "cell_type": "markdown",
   "id": "adb3b6f5-eb47-4505-b2e5-d0fd562d2e2a",
   "metadata": {},
   "source": [
    "# Лабороторная работа 6"
   ]
  },
  {
   "cell_type": "markdown",
   "id": "2f2124b4-a0a5-42d5-809b-814f9bcb538f",
   "metadata": {},
   "source": [
    "## Выравнивание списка, состоящего из итерируемых объектов, на основе рекурсии"
   ]
  },
  {
   "cell_type": "markdown",
   "id": "6937c83a-0bf3-4ed4-8338-0b944a5cc456",
   "metadata": {},
   "source": [
    "## Кандидатов Егор Олегович, 30.03.2025"
   ]
  },
  {
   "cell_type": "code",
   "execution_count": 6,
   "id": "225e7ebf-e75a-4a25-95af-6734a872270b",
   "metadata": {},
   "outputs": [
    {
     "ename": "RecursionError",
     "evalue": "maximum recursion depth exceeded",
     "output_type": "error",
     "traceback": [
      "\u001b[1;31m---------------------------------------------------------------------------\u001b[0m",
      "\u001b[1;31mRecursionError\u001b[0m                            Traceback (most recent call last)",
      "Cell \u001b[1;32mIn[6], line 3\u001b[0m\n\u001b[0;32m      1\u001b[0m \u001b[38;5;28;01mdef\u001b[39;00m \u001b[38;5;21mrecursive\u001b[39m():\n\u001b[0;32m      2\u001b[0m  recursive()\n\u001b[1;32m----> 3\u001b[0m recursive()\n",
      "Cell \u001b[1;32mIn[6], line 2\u001b[0m, in \u001b[0;36mrecursive\u001b[1;34m()\u001b[0m\n\u001b[0;32m      1\u001b[0m \u001b[38;5;28;01mdef\u001b[39;00m \u001b[38;5;21mrecursive\u001b[39m():\n\u001b[1;32m----> 2\u001b[0m  recursive()\n",
      "Cell \u001b[1;32mIn[6], line 2\u001b[0m, in \u001b[0;36mrecursive\u001b[1;34m()\u001b[0m\n\u001b[0;32m      1\u001b[0m \u001b[38;5;28;01mdef\u001b[39;00m \u001b[38;5;21mrecursive\u001b[39m():\n\u001b[1;32m----> 2\u001b[0m  recursive()\n",
      "    \u001b[1;31m[... skipping similar frames: recursive at line 2 (2974 times)]\u001b[0m\n",
      "Cell \u001b[1;32mIn[6], line 2\u001b[0m, in \u001b[0;36mrecursive\u001b[1;34m()\u001b[0m\n\u001b[0;32m      1\u001b[0m \u001b[38;5;28;01mdef\u001b[39;00m \u001b[38;5;21mrecursive\u001b[39m():\n\u001b[1;32m----> 2\u001b[0m  recursive()\n",
      "\u001b[1;31mRecursionError\u001b[0m: maximum recursion depth exceeded"
     ]
    }
   ],
   "source": [
    "def recursive():\n",
    " recursive()\n",
    "recursive()"
   ]
  },
  {
   "cell_type": "code",
   "execution_count": 8,
   "id": "2be78073-ac11-4c5a-a1d4-f8e783bfc688",
   "metadata": {},
   "outputs": [
    {
     "data": {
      "text/plain": [
       "3000"
      ]
     },
     "execution_count": 8,
     "metadata": {},
     "output_type": "execute_result"
    }
   ],
   "source": [
    "import sys\n",
    "sys.getrecursionlimit()"
   ]
  },
  {
   "cell_type": "code",
   "execution_count": 14,
   "id": "bd9fa3c6-2dbe-436f-9ff3-a5a6266cb6d5",
   "metadata": {},
   "outputs": [
    {
     "data": {
      "text/plain": [
       "(0, 3, 55)"
      ]
     },
     "execution_count": 14,
     "metadata": {},
     "output_type": "execute_result"
    }
   ],
   "source": [
    "def sum(n):\n",
    "    \"\"\"суммирует числа от 0 до n>=0\"\"\"\n",
    "    match n:\n",
    "        case 0: return n # база рекурсии\n",
    "        case _: return n + sum(n-1)\n",
    "sum(0), sum(2), sum(10)"
   ]
  },
  {
   "cell_type": "code",
   "execution_count": 16,
   "id": "9d50f647-f1a6-44c0-a4e5-8c02c04c2dd7",
   "metadata": {},
   "outputs": [
    {
     "data": {
      "text/plain": [
       "(0, 3, 55)"
      ]
     },
     "execution_count": 16,
     "metadata": {},
     "output_type": "execute_result"
    }
   ],
   "source": [
    "sum = lambda n: n + sum(n-1) if n else n\n",
    "sum(0), sum(2), sum(10)"
   ]
  },
  {
   "cell_type": "markdown",
   "id": "06f18bd5-4eb6-4c45-b4af-49361df5c7e3",
   "metadata": {},
   "source": [
    "## Задание 6.1. Выравнивание вложенных списков"
   ]
  },
  {
   "cell_type": "markdown",
   "id": "b26c621d-4950-4143-9bb8-b076a2aaaf9f",
   "metadata": {},
   "source": [
    "### Задание 6.1.1. Рекурсивная функция flatten_list_v1"
   ]
  },
  {
   "cell_type": "code",
   "execution_count": 20,
   "id": "e060a114-4149-4b21-b850-12c570cba9e0",
   "metadata": {},
   "outputs": [],
   "source": [
    "it_list = [[1],[2,[3]],[[[[[4]]]]],5,6,7]"
   ]
  },
  {
   "cell_type": "code",
   "execution_count": 22,
   "id": "b309574a-5d2b-43dc-ac66-015324473f22",
   "metadata": {},
   "outputs": [
    {
     "data": {
      "text/plain": [
       "\u001b[1;31mSignature:\u001b[0m \u001b[0misinstance\u001b[0m\u001b[1;33m(\u001b[0m\u001b[0mobj\u001b[0m\u001b[1;33m,\u001b[0m \u001b[0mclass_or_tuple\u001b[0m\u001b[1;33m,\u001b[0m \u001b[1;33m/\u001b[0m\u001b[1;33m)\u001b[0m\u001b[1;33m\u001b[0m\u001b[1;33m\u001b[0m\u001b[0m\n",
       "\u001b[1;31mDocstring:\u001b[0m\n",
       "Return whether an object is an instance of a class or of a subclass thereof.\n",
       "\n",
       "A tuple, as in ``isinstance(x, (A, B, ...))``, may be given as the target to\n",
       "check against. This is equivalent to ``isinstance(x, A) or isinstance(x, B)\n",
       "or ...`` etc.\n",
       "\u001b[1;31mType:\u001b[0m      builtin_function_or_method"
      ]
     },
     "metadata": {},
     "output_type": "display_data"
    }
   ],
   "source": [
    "?isinstance"
   ]
  },
  {
   "cell_type": "code",
   "execution_count": 24,
   "id": "7fce609a-4c1c-4b0e-86f1-81d2b011c712",
   "metadata": {},
   "outputs": [],
   "source": [
    "def flatten_list_v1(nested_obj):\n",
    "    result = []\n",
    "    if isinstance(nested_obj,list):\n",
    "        for item in nested_obj:\n",
    "            result += flatten_list_v1(item) # рекурсия\n",
    "    else:\n",
    "        result += [nested_obj]\n",
    "    return result\n"
   ]
  },
  {
   "cell_type": "code",
   "execution_count": 26,
   "id": "4fc90f39-3274-4b20-acb0-676b76221bb8",
   "metadata": {},
   "outputs": [
    {
     "data": {
      "text/plain": [
       "[1, 2, 3, 4, 5, 6, 7]"
      ]
     },
     "execution_count": 26,
     "metadata": {},
     "output_type": "execute_result"
    }
   ],
   "source": [
    "flatten_list_v1(it_list)"
   ]
  },
  {
   "cell_type": "markdown",
   "id": "9ec77ecf-cc94-4d32-8053-6f10862cc04e",
   "metadata": {},
   "source": [
    "### Задание 6.1.2. Генераторная функция на основе рекурсии flatten_list_v2"
   ]
  },
  {
   "cell_type": "code",
   "execution_count": 31,
   "id": "02b61a7a-6c91-401b-81a4-cde6c10ed665",
   "metadata": {},
   "outputs": [],
   "source": [
    "def flatten_list_v2(nested_obj):\n",
    "    if isinstance(nested_obj,list): \n",
    "        for item in nested_obj: \n",
    "            yield from flatten_list_v2(item)\n",
    "    else: \n",
    "        yield nested_obj "
   ]
  },
  {
   "cell_type": "code",
   "execution_count": 33,
   "id": "30d68006-1bd5-4583-9847-7ff183b4c3e3",
   "metadata": {},
   "outputs": [
    {
     "data": {
      "text/plain": [
       "[1, 2, 3, 4, 5, 6, 7]"
      ]
     },
     "execution_count": 33,
     "metadata": {},
     "output_type": "execute_result"
    }
   ],
   "source": [
    "[x for x in flatten_list_v2(it_list)]"
   ]
  },
  {
   "cell_type": "code",
   "execution_count": 39,
   "id": "3e0101a9-e945-4768-9525-6943feec8736",
   "metadata": {},
   "outputs": [
    {
     "data": {
      "text/plain": [
       "[1, 2, 3, 4, 5, 6, 7]"
      ]
     },
     "execution_count": 39,
     "metadata": {},
     "output_type": "execute_result"
    }
   ],
   "source": [
    "def flatten_list_v2(nested_obj):                            \n",
    "    if isinstance(nested_obj,list):            \n",
    "        for item in nested_obj:                 \n",
    "            for elem in flatten_list_v2(item):\n",
    "                yield elem\n",
    "    else:                                       \n",
    "        yield nested_obj                       \n",
    "[x for x in flatten_list_v2(it_list)]"
   ]
  },
  {
   "cell_type": "markdown",
   "id": "66f476f0-fe48-4fe8-8890-bbcfecebe5de",
   "metadata": {},
   "source": [
    "### Задание 6.1.3. Функция flatten_list: создание, документирование, тестирование"
   ]
  },
  {
   "cell_type": "code",
   "execution_count": 42,
   "id": "f19b913e-110a-4c78-99d3-bae0aebc7630",
   "metadata": {},
   "outputs": [],
   "source": [
    "def flatten_list(nested_obj,gen=False): \n",
    "    def flatten_list_v2(nested_obj):\n",
    "        if isinstance(nested_obj,list): # проверка является ли объект списком\n",
    "            for item in nested_obj: # если да проходимcя по каждому элементу\n",
    "                yield from flatten_list_v2(item) # возвращать по одному объекту из коллекции по запросу\n",
    "        else: \n",
    "            yield nested_obj # возвращает объект\n",
    "    if gen:\n",
    "        return flatten_list_v2(nested_obj)\n",
    "    else:\n",
    "        return [x for x in flatten_list_v2(nested_obj)]"
   ]
  },
  {
   "cell_type": "code",
   "execution_count": 44,
   "id": "5623e3c3-a2d2-43a5-a84c-2e25383f6e2c",
   "metadata": {},
   "outputs": [
    {
     "data": {
      "text/plain": [
       "[1, 2, 3, 4, 5, 6, 7]"
      ]
     },
     "execution_count": 44,
     "metadata": {},
     "output_type": "execute_result"
    }
   ],
   "source": [
    "flatten_list(it_list)"
   ]
  },
  {
   "cell_type": "code",
   "execution_count": 46,
   "id": "fbf5cf82-b0f6-4a97-82da-494d827f1eb1",
   "metadata": {},
   "outputs": [
    {
     "data": {
      "text/plain": [
       "[1, 2, 3, 4, 5, 6, 7]"
      ]
     },
     "execution_count": 46,
     "metadata": {},
     "output_type": "execute_result"
    }
   ],
   "source": [
    "[i for i in flatten_list(it_list,True)]"
   ]
  },
  {
   "cell_type": "code",
   "execution_count": 50,
   "id": "9ac30a87-e783-4f74-940a-fd7f3d406e90",
   "metadata": {},
   "outputs": [
    {
     "data": {
      "text/plain": [
       "<generator object flatten_list.<locals>.flatten_list_v2 at 0x000001BC3A38E340>"
      ]
     },
     "execution_count": 50,
     "metadata": {},
     "output_type": "execute_result"
    }
   ],
   "source": [
    "flatten_list([[[2]],[[3],[[4]]],5,[6]],True)"
   ]
  },
  {
   "cell_type": "markdown",
   "id": "99aa11da-56ac-4ac3-a42d-0a9f4834a4c0",
   "metadata": {},
   "source": [
    " ## Задание 6.2. Выравнивание вложенных итерируемых объектов произвольного типа"
   ]
  },
  {
   "cell_type": "code",
   "execution_count": 73,
   "id": "b38ef106-8bc4-4620-bc40-e9f9719d471d",
   "metadata": {},
   "outputs": [],
   "source": [
    "it_tuple = (((7),(8)),(9),10)\n",
    "it_str = \"abcdefgh\"\n",
    "it_dict = {\"key1\": 11, \"key2\": {\"key3\": 12}}\n",
    "it_gen = ([i,i**2,i**3] for i in range(5))\n",
    "it_file = open(\"flatten_file.txt\")\n",
    "it = [it_list, it_tuple, it_str, it_dict, it_gen, it_file]"
   ]
  },
  {
   "cell_type": "code",
   "execution_count": 75,
   "id": "7ca43a43-55b2-46ca-afb1-badc7448009f",
   "metadata": {},
   "outputs": [
    {
     "data": {
      "text/plain": [
       "[True, True, True, True, True, True]"
      ]
     },
     "execution_count": 75,
     "metadata": {},
     "output_type": "execute_result"
    }
   ],
   "source": [
    "['__iter__' in dir(x) for x in it]"
   ]
  },
  {
   "cell_type": "code",
   "execution_count": 77,
   "id": "7dcd98e0-3877-4ab9-a88e-f3a7f10fdd60",
   "metadata": {},
   "outputs": [
    {
     "data": {
      "text/plain": [
       "[True, True, True, True, True, True]"
      ]
     },
     "execution_count": 77,
     "metadata": {},
     "output_type": "execute_result"
    }
   ],
   "source": [
    "[hasattr(x, '__iter__') for x in it]"
   ]
  },
  {
   "cell_type": "code",
   "execution_count": 79,
   "id": "8db31bd9-9fea-4e6d-9db5-a9ad6def0bba",
   "metadata": {},
   "outputs": [
    {
     "data": {
      "text/plain": [
       "\u001b[1;31mSignature:\u001b[0m \u001b[0mhasattr\u001b[0m\u001b[1;33m(\u001b[0m\u001b[0mobj\u001b[0m\u001b[1;33m,\u001b[0m \u001b[0mname\u001b[0m\u001b[1;33m,\u001b[0m \u001b[1;33m/\u001b[0m\u001b[1;33m)\u001b[0m\u001b[1;33m\u001b[0m\u001b[1;33m\u001b[0m\u001b[0m\n",
       "\u001b[1;31mDocstring:\u001b[0m\n",
       "Return whether the object has an attribute with the given name.\n",
       "\n",
       "This is done by calling getattr(obj, name) and catching AttributeError.\n",
       "\u001b[1;31mType:\u001b[0m      builtin_function_or_method"
      ]
     },
     "metadata": {},
     "output_type": "display_data"
    }
   ],
   "source": [
    "?hasattr"
   ]
  },
  {
   "cell_type": "markdown",
   "id": "45bf0aad-e658-4229-8fba-97d836636be4",
   "metadata": {},
   "source": [
    "### Задание 6.2.1. Рекурсивная функция flatten_it_v1"
   ]
  },
  {
   "cell_type": "code",
   "execution_count": 82,
   "id": "87383182-15b1-47bd-897e-ede7eeaa730b",
   "metadata": {},
   "outputs": [],
   "source": [
    "def flatten_it_v1(nested_obj):\n",
    "    result = []\n",
    "    if hasattr(nested_obj, '__iter__'):\n",
    "        for item in nested_obj:\n",
    "            if isinstance(item,str):\n",
    "                result+=[item]\n",
    "            elif isinstance(item,dict):\n",
    "                result+=flatten_it_v1(item.keys())+flatten_it_v1(item.values())\n",
    "            else:\n",
    "                result+=flatten_it_v1(item)\n",
    "    else:\n",
    "         result += [nested_obj]\n",
    "    return result"
   ]
  },
  {
   "cell_type": "code",
   "execution_count": 84,
   "id": "b0be421b-ecb6-4fa8-b75e-8d96793623fd",
   "metadata": {},
   "outputs": [
    {
     "data": {
      "text/plain": [
       "[1,\n",
       " 2,\n",
       " 3,\n",
       " 4,\n",
       " 5,\n",
       " 6,\n",
       " 7,\n",
       " 7,\n",
       " 8,\n",
       " 9,\n",
       " 10,\n",
       " 'abcdefgh',\n",
       " 'key1',\n",
       " 'key2',\n",
       " 11,\n",
       " 'key3',\n",
       " 12,\n",
       " 0,\n",
       " 0,\n",
       " 0,\n",
       " 1,\n",
       " 1,\n",
       " 1,\n",
       " 2,\n",
       " 4,\n",
       " 8,\n",
       " 3,\n",
       " 9,\n",
       " 27,\n",
       " 4,\n",
       " 16,\n",
       " 64,\n",
       " 'dkfklsmfkls']"
      ]
     },
     "execution_count": 84,
     "metadata": {},
     "output_type": "execute_result"
    }
   ],
   "source": [
    "flatten_it_v1(it)"
   ]
  },
  {
   "cell_type": "markdown",
   "id": "0ad8b848-5d8d-4606-b550-b03363d5dcc8",
   "metadata": {},
   "source": [
    "### Задание 6.2.2. Генераторная функция на основе рекурсии flatten_it_v2"
   ]
  },
  {
   "cell_type": "code",
   "execution_count": 87,
   "id": "2f582e63-b565-4c51-bc0e-fe827610582e",
   "metadata": {},
   "outputs": [],
   "source": [
    "def flatten_it_v2(nested_obj):\n",
    "    if hasattr(nested_obj, '__iter__'):\n",
    "        for item in nested_obj:\n",
    "            if isinstance(item,str):\n",
    "                yield item\n",
    "            elif isinstance(item,dict):\n",
    "                yield from flatten_it_v2(item.keys())\n",
    "                yield from flatten_it_v2(item.values())\n",
    "            else:\n",
    "                yield from flatten_it_v2(item)\n",
    "    else:\n",
    "        yield nested_obj"
   ]
  },
  {
   "cell_type": "code",
   "execution_count": 89,
   "id": "657d112b-6713-48c8-b269-7ebad03e1799",
   "metadata": {},
   "outputs": [
    {
     "data": {
      "text/plain": [
       "<generator object flatten_it_v2 at 0x000001BC3A38EF80>"
      ]
     },
     "execution_count": 89,
     "metadata": {},
     "output_type": "execute_result"
    }
   ],
   "source": [
    "flatten_it_v2(it)"
   ]
  },
  {
   "cell_type": "code",
   "execution_count": 92,
   "id": "c42230b5-c73b-465d-a16e-1923b7a0a519",
   "metadata": {},
   "outputs": [
    {
     "data": {
      "text/plain": [
       "[1, 2, 3, 4, 5, 6, 7, 7, 8, 9, 10, 'abcdefgh', 'key1', 'key2', 11, 'key3', 12]"
      ]
     },
     "execution_count": 92,
     "metadata": {},
     "output_type": "execute_result"
    }
   ],
   "source": [
    "[x for x in flatten_it_v2(it)]"
   ]
  },
  {
   "cell_type": "markdown",
   "id": "a6c80a69-cf37-4ad6-8188-52b339bbd8ee",
   "metadata": {},
   "source": [
    "### Задание 6.2.3. Функция flatten_it: создание, документирование, тестирование"
   ]
  },
  {
   "cell_type": "code",
   "execution_count": 94,
   "id": "d883f39c-f1ee-4d33-ab3d-fc7fdfabdba5",
   "metadata": {},
   "outputs": [],
   "source": [
    "def flatten_it(nested_obj,gen=False):\n",
    "    def flatten_it_v2(nested_obj):\n",
    "        if hasattr(nested_obj, '__iter__'):\n",
    "            for item in nested_obj:\n",
    "                if isinstance(item,str):\n",
    "                    yield item\n",
    "                elif isinstance(item,dict):\n",
    "                    yield from flatten_it_v2(item.keys())\n",
    "                    yield from flatten_it_v2(item.values())\n",
    "                else:\n",
    "                    yield from flatten_it_v2(item)\n",
    "        else:\n",
    "            yield nested_obj\n",
    "    if gen:\n",
    "        return flatten_it_v2(nested_obj)\n",
    "    else:\n",
    "        return [x for x in flatten_it_v2(nested_obj)]"
   ]
  },
  {
   "cell_type": "code",
   "execution_count": 100,
   "id": "2fbf43b0-4335-4190-b879-27d9415af04e",
   "metadata": {},
   "outputs": [
    {
     "data": {
      "text/plain": [
       "[1, 2, 3, 4, 5, 6, 7, 7, 8, 9, 10, 'abcdefgh', 'key1', 'key2', 11, 'key3', 12]"
      ]
     },
     "execution_count": 100,
     "metadata": {},
     "output_type": "execute_result"
    }
   ],
   "source": [
    "flatten_it(it)"
   ]
  },
  {
   "cell_type": "code",
   "execution_count": 102,
   "id": "6c757f09-85b8-4872-9c8f-d77e18204f11",
   "metadata": {},
   "outputs": [
    {
     "data": {
      "text/plain": [
       "[1, 2, 3, 4, 5, 6, 7, 7, 8, 9, 10, 'abcdefgh', 'key1', 'key2', 11, 'key3', 12]"
      ]
     },
     "execution_count": 102,
     "metadata": {},
     "output_type": "execute_result"
    }
   ],
   "source": [
    "[i for i in flatten_it(it,True)]"
   ]
  },
  {
   "cell_type": "markdown",
   "id": "d1d33ffd-fa05-4ac7-9f11-c45bee4536bf",
   "metadata": {},
   "source": [
    "## Задание 6.3. Обработка циклических объектов"
   ]
  },
  {
   "cell_type": "code",
   "execution_count": 105,
   "id": "b02f74a6-bd75-4df6-85c6-309818336d7b",
   "metadata": {},
   "outputs": [],
   "source": [
    "it_list_cyclic = it_list[:]\n",
    "it_list_cyclic.append(it_list_cyclic)"
   ]
  },
  {
   "cell_type": "code",
   "execution_count": 107,
   "id": "dbe2a56a-2d81-44a3-87bf-89fba9df3e05",
   "metadata": {},
   "outputs": [
    {
     "data": {
      "text/plain": [
       "[[1], [2, [3]], [[[[[4]]]]], 5, 6, 7, [...]]"
      ]
     },
     "execution_count": 107,
     "metadata": {},
     "output_type": "execute_result"
    }
   ],
   "source": [
    "it_list_cyclic"
   ]
  },
  {
   "cell_type": "code",
   "execution_count": 109,
   "id": "4a1f4d72-d928-483d-b88f-3aafa5dd0587",
   "metadata": {},
   "outputs": [],
   "source": [
    "def flatten_list_v1(nested_obj):\n",
    "    result = []\n",
    "    if isinstance(nested_obj,list):\n",
    "        for item in nested_obj:\n",
    "            if item is nested_obj:\n",
    "                raise ValueError(\"Cyclic list is found\") # генерация исключения\n",
    "            else:\n",
    "                result += flatten_list_v1(item)\n",
    "    else:\n",
    "        result += [nested_obj]\n",
    "    return result"
   ]
  },
  {
   "cell_type": "code",
   "execution_count": 111,
   "id": "86ad5ae6-fcf7-47b5-b6a7-d32bc4d64a07",
   "metadata": {},
   "outputs": [
    {
     "data": {
      "text/plain": [
       "[1, 2, 3, 4, 5, 6, 7]"
      ]
     },
     "execution_count": 111,
     "metadata": {},
     "output_type": "execute_result"
    }
   ],
   "source": [
    "flatten_list_v1(it_list)"
   ]
  },
  {
   "cell_type": "code",
   "execution_count": 113,
   "id": "9e50c264-9c61-4ba6-b35e-19124b607b6a",
   "metadata": {},
   "outputs": [
    {
     "ename": "ValueError",
     "evalue": "Cyclic list is found",
     "output_type": "error",
     "traceback": [
      "\u001b[1;31m---------------------------------------------------------------------------\u001b[0m",
      "\u001b[1;31mValueError\u001b[0m                                Traceback (most recent call last)",
      "Cell \u001b[1;32mIn[113], line 1\u001b[0m\n\u001b[1;32m----> 1\u001b[0m flatten_list_v1(it_list_cyclic)\n",
      "Cell \u001b[1;32mIn[109], line 6\u001b[0m, in \u001b[0;36mflatten_list_v1\u001b[1;34m(nested_obj)\u001b[0m\n\u001b[0;32m      4\u001b[0m \u001b[38;5;28;01mfor\u001b[39;00m item \u001b[38;5;129;01min\u001b[39;00m nested_obj:\n\u001b[0;32m      5\u001b[0m     \u001b[38;5;28;01mif\u001b[39;00m item \u001b[38;5;129;01mis\u001b[39;00m nested_obj:\n\u001b[1;32m----> 6\u001b[0m         \u001b[38;5;28;01mraise\u001b[39;00m \u001b[38;5;167;01mValueError\u001b[39;00m(\u001b[38;5;124m\"\u001b[39m\u001b[38;5;124mCyclic list is found\u001b[39m\u001b[38;5;124m\"\u001b[39m) \u001b[38;5;66;03m# генерация исключения\u001b[39;00m\n\u001b[0;32m      7\u001b[0m     \u001b[38;5;28;01melse\u001b[39;00m:\n\u001b[0;32m      8\u001b[0m         result \u001b[38;5;241m+\u001b[39m\u001b[38;5;241m=\u001b[39m flatten_list_v1(item)\n",
      "\u001b[1;31mValueError\u001b[0m: Cyclic list is found"
     ]
    }
   ],
   "source": [
    "flatten_list_v1(it_list_cyclic)"
   ]
  },
  {
   "cell_type": "code",
   "execution_count": 117,
   "id": "bf5acef1-0ed2-4509-956f-ac52d3126290",
   "metadata": {},
   "outputs": [
    {
     "name": "stdout",
     "output_type": "stream",
     "text": [
      "Cyclic list is found\n"
     ]
    }
   ],
   "source": [
    "try:\n",
    "    print(flatten_list_v1(it_list_cyclic))\n",
    "except ValueError as e:\n",
    "    print(e)"
   ]
  },
  {
   "cell_type": "markdown",
   "id": "5ecb0bcf-1b7f-4fb0-838e-3a53bc73520c",
   "metadata": {},
   "source": [
    "### Задание 6.3.1. Доопределение функции flatten_it"
   ]
  },
  {
   "cell_type": "code",
   "execution_count": 125,
   "id": "00228d92-e116-4c7a-b8b3-73c88eb129b1",
   "metadata": {},
   "outputs": [],
   "source": [
    "def flatten_it(nested_obj,gen=False):\n",
    "    def flatten_it_v2(nested_obj):\n",
    "        if hasattr(nested_obj, '__iter__'):\n",
    "            for item in nested_obj:\n",
    "                if item is nested_obj:\n",
    "                    raise ValueError(\"Cyclic list is found\") \n",
    "                else:\n",
    "                    if isinstance(item,str):\n",
    "                        yield item\n",
    "                    elif isinstance(item,dict):\n",
    "                        yield from flatten_it_v2(item.keys())\n",
    "                        for new_item in flatten_it_v2(item.values()):\n",
    "                            if new_item is item:\n",
    "                                raise ValueError(\"Cyclic list is found\") \n",
    "                            else:\n",
    "                                yield from flatten_it_v2(item.values())\n",
    "                    else:\n",
    "                        yield from flatten_it_v2(item)\n",
    "        else:\n",
    "            yield nested_obj\n",
    "    if gen:\n",
    "        return flatten_it_v2(nested_obj)\n",
    "    else:\n",
    "        return [x for x in flatten_it_v2(nested_obj)]"
   ]
  },
  {
   "cell_type": "markdown",
   "id": "3a517782-b198-49ad-86fc-b9f15b6d52b5",
   "metadata": {},
   "source": [
    "### Задание 6.3.2. Тестирование функции flatten_it"
   ]
  },
  {
   "cell_type": "code",
   "execution_count": 137,
   "id": "4dab69bf-171c-449c-a372-77cd08b84cc8",
   "metadata": {},
   "outputs": [
    {
     "data": {
      "text/plain": [
       "{1: 3, 'elem2': 8, 'elem3': 'km', 4: {...}}"
      ]
     },
     "execution_count": 137,
     "metadata": {},
     "output_type": "execute_result"
    }
   ],
   "source": [
    "a={1:3,\"elem2\":8,\"elem3\":\"km\"}\n",
    "a[4]=a\n",
    "a"
   ]
  },
  {
   "cell_type": "code",
   "execution_count": 139,
   "id": "2b1c3230-c8d5-4345-be86-503d3e788bfd",
   "metadata": {},
   "outputs": [
    {
     "data": {
      "text/plain": [
       "[[[1], [2, [3]], [[[[[4]]]]], 5, 6, 7, [...]],\n",
       " {1: 3, 'elem2': 8, 'elem3': 'km', 4: {...}}]"
      ]
     },
     "execution_count": 139,
     "metadata": {},
     "output_type": "execute_result"
    }
   ],
   "source": [
    "test=[it_list_cyclic,a]\n",
    "test"
   ]
  },
  {
   "cell_type": "code",
   "execution_count": 141,
   "id": "24795aaf-021c-470e-bcd1-c9383f6f2831",
   "metadata": {},
   "outputs": [
    {
     "name": "stdout",
     "output_type": "stream",
     "text": [
      "Cyclic list is found\n"
     ]
    }
   ],
   "source": [
    "try:\n",
    "    print(flatten_it(test))\n",
    "except ValueError as e:\n",
    "    print(e)"
   ]
  },
  {
   "cell_type": "code",
   "execution_count": null,
   "id": "d2d2e9b8-d217-46f0-b81c-f00792df61fa",
   "metadata": {},
   "outputs": [],
   "source": []
  }
 ],
 "metadata": {
  "kernelspec": {
   "display_name": "Python [conda env:base] *",
   "language": "python",
   "name": "conda-base-py"
  },
  "language_info": {
   "codemirror_mode": {
    "name": "ipython",
    "version": 3
   },
   "file_extension": ".py",
   "mimetype": "text/x-python",
   "name": "python",
   "nbconvert_exporter": "python",
   "pygments_lexer": "ipython3",
   "version": "3.12.3"
  }
 },
 "nbformat": 4,
 "nbformat_minor": 5
}
